{
    "nbformat_minor": 1, 
    "cells": [
        {
            "source": "def isprime(n):\n    \"\"\"\n    check if integer n is a prime\n    \"\"\"\n    # make sure n is a positive integer\n    n = abs(int(n))\n    # 0 and 1 are not primes\n    if n < 2:\n        return False\n    # 2 is the only even prime number\n    if n == 2:\n        return True\n    # all other even numbers are not primes\n    if not n & 1:\n        return False\n    # range starts with 3 and only needs to go up the square root of n\n    # for all odd numbers\n    for x in range(3, int(n**0.5)+1, 2):\n        if n % x == 0:\n            return False\n    return True\n\n# Create an RDD of numbers from 0 to 1,000,000\nnums = sc.parallelize(xrange(1000000))\n\n# Compute the number of primes in the RDD\nprint nums.filter(isprime).count()", 
            "cell_type": "code", 
            "execution_count": 23, 
            "outputs": [
                {
                    "output_type": "stream", 
                    "name": "stdout", 
                    "text": "78498\n"
                }
            ], 
            "metadata": {}
        }, 
        {
            "source": "sc.version", 
            "cell_type": "code", 
            "execution_count": 31, 
            "outputs": [
                {
                    "output_type": "execute_result", 
                    "metadata": {}, 
                    "data": {
                        "text/plain": "u'1.6.0'"
                    }, 
                    "execution_count": 31
                }
            ], 
            "metadata": {}
        }, 
        {
            "source": "", 
            "cell_type": "code", 
            "execution_count": 73, 
            "outputs": [], 
            "metadata": {}
        }, 
        {
            "source": "text = sc.textFile(\"shakespeare.txt\")\nprint text.count()", 
            "cell_type": "code", 
            "execution_count": 88, 
            "outputs": [
                {
                    "output_type": "stream", 
                    "name": "stdout", 
                    "text": "124787\n"
                }
            ], 
            "metadata": {}
        }, 
        {
            "source": "from operator import add\ndef tokenize(text):\n    return text.split()\nwords = text.flatMap(tokenize)\nprint words", 
            "cell_type": "code", 
            "execution_count": 78, 
            "outputs": [
                {
                    "output_type": "stream", 
                    "name": "stdout", 
                    "text": "PythonRDD[63] at RDD at PythonRDD.scala:43\n"
                }
            ], 
            "metadata": {}
        }, 
        {
            "source": "wc = words.map(lambda x: (x,1))\nwc.toDebugString()", 
            "cell_type": "code", 
            "execution_count": 79, 
            "outputs": [
                {
                    "output_type": "execute_result", 
                    "metadata": {}, 
                    "data": {
                        "text/plain": "'(2) PythonRDD[64] at RDD at PythonRDD.scala:43 []\\n |  MapPartitionsRDD[62] at textFile at null:-1 []\\n |  shakespeare.txt HadoopRDD[61] at textFile at null:-1 []'"
                    }, 
                    "execution_count": 79
                }
            ], 
            "metadata": {}
        }, 
        {
            "source": "counts = wc.reduceByKey(add)\ncounts.saveAsTextFile(\"wc\")", 
            "cell_type": "code", 
            "execution_count": 80, 
            "outputs": [], 
            "metadata": {}
        }, 
        {
            "source": "wc.take(5)\n", 
            "cell_type": "code", 
            "execution_count": 87, 
            "outputs": [
                {
                    "output_type": "execute_result", 
                    "metadata": {}, 
                    "data": {
                        "text/plain": "[(u'The', 1), (u'Project', 1), (u'Gutenberg', 1), (u'EBook', 1), (u'of', 1)]"
                    }, 
                    "execution_count": 87
                }
            ], 
            "metadata": {}
        }, 
        {
            "source": "", 
            "cell_type": "code", 
            "execution_count": null, 
            "outputs": [], 
            "metadata": {
                "collapsed": true
            }
        }, 
        {
            "source": "", 
            "cell_type": "code", 
            "execution_count": null, 
            "outputs": [], 
            "metadata": {}
        }, 
        {
            "source": "", 
            "cell_type": "code", 
            "execution_count": null, 
            "outputs": [], 
            "metadata": {}
        }, 
        {
            "source": "", 
            "cell_type": "code", 
            "execution_count": null, 
            "outputs": [], 
            "metadata": {
                "collapsed": true
            }
        }
    ], 
    "nbformat": 4, 
    "metadata": {
        "kernelspec": {
            "display_name": "Python 2 with Spark 1.6", 
            "name": "python2", 
            "language": "python"
        }, 
        "language_info": {
            "mimetype": "text/x-python", 
            "nbconvert_exporter": "python", 
            "version": "2.7.11", 
            "name": "python", 
            "pygments_lexer": "ipython2", 
            "file_extension": ".py", 
            "codemirror_mode": {
                "version": 2, 
                "name": "ipython"
            }
        }
    }
}