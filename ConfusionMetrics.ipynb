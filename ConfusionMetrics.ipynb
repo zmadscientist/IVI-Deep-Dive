{
 "cells": [
  {
   "cell_type": "code",
   "execution_count": 1,
   "metadata": {},
   "outputs": [],
   "source": [
    "import json\n",
    "import glob\n",
    "import os\n",
    "import pandas as pd\n",
    "path = 'C:/Users/zmads/_workspace/python/IBM Workbooks/FoxStudios/Deadpool2/ModelScores/ImageViolenceClassifier/'\n",
    "boblist = []\n",
    "for filename in glob.glob(os.path.join(path, '*.json')):\n",
    "    with open(filename) as file:\n",
    "        data = file.read()\n",
    "        jsondata = json.loads(data)\n",
    "        foxclass = filename.split('\\\\')[-1][4:-9]         \n",
    "        classname = 'None'\n",
    "        confidence = 0.0\n",
    "        xmax = 0\n",
    "        xmin = 0\n",
    "        ymin = 0\n",
    "        ymax = 0\n",
    "        if type(jsondata) ==  type(None):\n",
    "            #print filename\n",
    "            print(filename.split('\\\\')[-1], foxclass, classname, jsondata['classified'][item] ) \n",
    "        else:\n",
    "            if (jsondata['result'] == 'fail'):\n",
    "                #print filename\n",
    "                print(filename.split('\\\\')[-1], foxclass, classname, jsondata['classified'][item] )\n",
    "            else:\n",
    "                if (len(jsondata['classified']) == 0):\n",
    "                    #print filename\n",
    "                    print(filename.split('\\\\')[-1], foxclass, classname, jsondata['classified'][item] )\n",
    "                else:\n",
    "                    for item in jsondata['classified']:   \n",
    "                        classname = item\n",
    "                        subclassname = item\n",
    "                        value = jsondata['classified'][item] \n",
    "                        nameDict = {\n",
    "                            'Nud_S': 'Nuds',\n",
    "                            'Smoking_Drugs': 'Smok',\n",
    "                            'Violence': 'Violence',\n",
    "                            'Expletive': 'Expletive',\n",
    "                            'None': 'None',\n",
    "                            '_negative_': 'None'\n",
    "                                }\n",
    "                        boblist.append((filename.split('\\\\')[-1], foxclass, nameDict[subclassname], value))\n",
    "                        #print(filename.split('\\\\')[-1], foxclass, classname, value)\n",
    "columns = ['filename', 'FoxClass', 'ModelClass', 'Score']\n",
    "ImageViolenceClassifier = pd.DataFrame(boblist, columns = columns)  \n",
    "\n",
    "\n",
    "\n"
   ]
  },
  {
   "cell_type": "code",
   "execution_count": 2,
   "metadata": {},
   "outputs": [
    {
     "data": {
      "text/html": [
       "<div>\n",
       "<style scoped>\n",
       "    .dataframe tbody tr th:only-of-type {\n",
       "        vertical-align: middle;\n",
       "    }\n",
       "\n",
       "    .dataframe tbody tr th {\n",
       "        vertical-align: top;\n",
       "    }\n",
       "\n",
       "    .dataframe thead th {\n",
       "        text-align: right;\n",
       "    }\n",
       "</style>\n",
       "<table border=\"1\" class=\"dataframe\">\n",
       "  <thead>\n",
       "    <tr style=\"text-align: right;\">\n",
       "      <th></th>\n",
       "      <th>filename</th>\n",
       "      <th>FoxClass</th>\n",
       "      <th>ModelClass</th>\n",
       "      <th>Score</th>\n",
       "    </tr>\n",
       "  </thead>\n",
       "  <tbody>\n",
       "    <tr>\n",
       "      <th>0</th>\n",
       "      <td>0001Smok0001.json</td>\n",
       "      <td>Smok</td>\n",
       "      <td>Smok</td>\n",
       "      <td>0.98846</td>\n",
       "    </tr>\n",
       "    <tr>\n",
       "      <th>1</th>\n",
       "      <td>0001Smok0002.json</td>\n",
       "      <td>Smok</td>\n",
       "      <td>Smok</td>\n",
       "      <td>0.98872</td>\n",
       "    </tr>\n",
       "    <tr>\n",
       "      <th>2</th>\n",
       "      <td>0001Smok0004.json</td>\n",
       "      <td>Smok</td>\n",
       "      <td>Smok</td>\n",
       "      <td>0.98841</td>\n",
       "    </tr>\n",
       "    <tr>\n",
       "      <th>3</th>\n",
       "      <td>0001Smok0005.json</td>\n",
       "      <td>Smok</td>\n",
       "      <td>Smok</td>\n",
       "      <td>0.97404</td>\n",
       "    </tr>\n",
       "    <tr>\n",
       "      <th>4</th>\n",
       "      <td>0001Smok0006.json</td>\n",
       "      <td>Smok</td>\n",
       "      <td>Smok</td>\n",
       "      <td>0.68780</td>\n",
       "    </tr>\n",
       "  </tbody>\n",
       "</table>\n",
       "</div>"
      ],
      "text/plain": [
       "            filename FoxClass ModelClass    Score\n",
       "0  0001Smok0001.json     Smok       Smok  0.98846\n",
       "1  0001Smok0002.json     Smok       Smok  0.98872\n",
       "2  0001Smok0004.json     Smok       Smok  0.98841\n",
       "3  0001Smok0005.json     Smok       Smok  0.97404\n",
       "4  0001Smok0006.json     Smok       Smok  0.68780"
      ]
     },
     "execution_count": 2,
     "metadata": {},
     "output_type": "execute_result"
    }
   ],
   "source": [
    "ImageViolenceClassifier.head()"
   ]
  },
  {
   "cell_type": "code",
   "execution_count": null,
   "metadata": {},
   "outputs": [],
   "source": []
  },
  {
   "cell_type": "markdown",
   "metadata": {},
   "source": [
    "# Utils for Reporting Metrics"
   ]
  },
  {
   "cell_type": "markdown",
   "metadata": {},
   "source": [
    "From https://scikit-learn.org/stable/auto_examples/model_selection/plot_precision_recall.html\n",
    "\n",
    "A system with high recall but low precision returns many results, but most of its predicted labels are incorrect when compared to the training labels. A system with high precision but low recall is just the opposite, returning very few results, but most of its predicted labels are correct when compared to the training labels. An ideal system with high precision and high recall will return many results, with all results labeled correctly."
   ]
  },
  {
   "cell_type": "code",
   "execution_count": 3,
   "metadata": {},
   "outputs": [],
   "source": [
    "# for Violence Class\n",
    "def calc_metrics(tp_rowcol, cm):\n",
    "    # this works only for col 0, row 0 for now \n",
    "    #will troubleshoot other columns later\n",
    "    # so its works for Violence but i have not generalized the cal to accomdate other row,col as the tp\n",
    "\n",
    "    tmp = 0\n",
    "    tp_rowcol = -tp_rowcol\n",
    "    tmp = np.roll(cm, tp_rowcol, axis=1)\n",
    "    cm = np.roll(tmp, tp_rowcol, axis=0)  \n",
    "\n",
    "    L = len(cm)\n",
    "    tp = cm[0][0]\n",
    "    fn = sum(cm[0][1:L])\n",
    "    fp = sum(cm, axis = 0)[0] - tp\n",
    "    ftn = sum(cm, axis = 0) - cm[0]\n",
    "    tn = sum(cm[1:L,1:L])\n",
    "    sensitivity_recall =  tp  / (tp + fn + 0.)\n",
    "    specificity =  tn / (tn + fp + 0.)\n",
    "    precision =  tp / (tp + fp + 0.)\n",
    "    accuracy =  (tp+tn+ 0.)/(tp+fp+fn+tn + 0.)\n",
    "    f1 = 2.0*precision*sensitivity_recall/(precision+sensitivity_recall)\n",
    "    return(accuracy, precision, sensitivity_recall, specificity, f1)\n",
    "def print_metrics(accuracy, precision, sensitivity_recall, specificity, f1):\n",
    "    print 'accuracy: ', accuracy\n",
    "    print 'sensitivity_recall: ',sensitivity_recall\n",
    "    print 'specificity: ', specificity\n",
    "    print 'precision: ', precision\n",
    "    print 'f1: ', f1\n",
    "def metricsAsDataframe(accuracy, precision, sensitivity_recall, specificity, f1):\n",
    "    data = [{'metric': 'accuracy', 'Value': accuracy, 'Description': '(tp+tn)/(tp+fp+fn+tn)'},\n",
    "             {'metric': 'precision',  'Value': precision, 'Description': 'tp/(tp+fp)' },\n",
    "             {'metric': 'sensitivity_recall',  'Value': sensitivity_recall, 'Description': 'tp  / (tp + fn)'},\n",
    "             {'metric': 'specificity',  'Value': specificity,  'Description': 'tn / (tn + fp)'},\n",
    "            {'metric': 'F1',  'Value': f1,  'Description': '2*precision*recall/(precision+recall)'}]\n",
    "    dfObj = pd.DataFrame(data, columns=['metric', 'Value', 'Description'])\n",
    "    return dfObj"
   ]
  },
  {
   "cell_type": "markdown",
   "metadata": {},
   "source": [
    "# Confusion Matrix for Deadpool2¶\n"
   ]
  },
  {
   "cell_type": "code",
   "execution_count": 4,
   "metadata": {},
   "outputs": [],
   "source": [
    "df = ImageViolenceClassifier"
   ]
  },
  {
   "cell_type": "code",
   "execution_count": 5,
   "metadata": {},
   "outputs": [
    {
     "name": "stdout",
     "output_type": "stream",
     "text": [
      "[[2394    0    0  100   61]\n",
      " [ 352    0    0  273   14]\n",
      " [ 107    0    0   67    9]\n",
      " [  44    0    0  389    6]\n",
      " [   9    0    0    3  152]]\n"
     ]
    },
    {
     "data": {
      "image/png": "[encoded data removed]",
      "text/plain": [
       "<Figure size 504x504 with 1 Axes>"
      ]
     },
     "metadata": {
      "needs_background": "light"
     },
     "output_type": "display_data"
    }
   ],
   "source": [
    "%matplotlib inline\n",
    "import matplotlib as plt\n",
    "from matplotlib import *\n",
    "import sys\n",
    "from pylab import *\n",
    "from sklearn.metrics import confusion_matrix\n",
    "#mlist = ['Predator']\n",
    "mlist = ['Deadpool2']\n",
    "#mlist = ['Predator', 'Deadpool2']\n",
    "#df = result\n",
    "y_true = df['FoxClass'].values.tolist()\n",
    "y_pred = df['ModelClass'].values.tolist()\n",
    "\n",
    "myset = set(y_true)\n",
    "labels = list(myset)\n",
    "\n",
    "labels = ['Violence', 'Expletive', 'Religious', 'Nuds', 'Smok']\n",
    "cm = confusion_matrix(y_true, y_pred, labels)\n",
    "cmd = cm.copy()\n",
    "print(cm)\n",
    "fig = plt.figure(figsize=(7,7))\n",
    "ax = fig.add_subplot(111)\n",
    "cax = ax.matshow(cm)\n",
    "plt.title('Confusion matrix for %s'%(mlist[0]))\n",
    "ax.set_xticklabels([''] + labels)\n",
    "ax.set_yticklabels([''] + labels)\n",
    "plt.xlabel('Predicted')\n",
    "plt.ylabel('True')\n",
    "plt.show()"
   ]
  },
  {
   "cell_type": "markdown",
   "metadata": {},
   "source": [
    "# Violence predictor metrics for Deadpool2"
   ]
  },
  {
   "cell_type": "code",
   "execution_count": 6,
   "metadata": {},
   "outputs": [
    {
     "data": {
      "text/html": [
       "<div>\n",
       "<style scoped>\n",
       "    .dataframe tbody tr th:only-of-type {\n",
       "        vertical-align: middle;\n",
       "    }\n",
       "\n",
       "    .dataframe tbody tr th {\n",
       "        vertical-align: top;\n",
       "    }\n",
       "\n",
       "    .dataframe thead th {\n",
       "        text-align: right;\n",
       "    }\n",
       "</style>\n",
       "<table border=\"1\" class=\"dataframe\">\n",
       "  <thead>\n",
       "    <tr style=\"text-align: right;\">\n",
       "      <th></th>\n",
       "      <th>metric</th>\n",
       "      <th>Value</th>\n",
       "      <th>Description</th>\n",
       "    </tr>\n",
       "  </thead>\n",
       "  <tbody>\n",
       "    <tr>\n",
       "      <th>0</th>\n",
       "      <td>accuracy</td>\n",
       "      <td>0.830905</td>\n",
       "      <td>(tp+tn)/(tp+fp+fn+tn)</td>\n",
       "    </tr>\n",
       "    <tr>\n",
       "      <th>1</th>\n",
       "      <td>precision</td>\n",
       "      <td>0.823813</td>\n",
       "      <td>tp/(tp+fp)</td>\n",
       "    </tr>\n",
       "    <tr>\n",
       "      <th>2</th>\n",
       "      <td>sensitivity_recall</td>\n",
       "      <td>0.936986</td>\n",
       "      <td>tp  / (tp + fn)</td>\n",
       "    </tr>\n",
       "    <tr>\n",
       "      <th>3</th>\n",
       "      <td>specificity</td>\n",
       "      <td>0.640702</td>\n",
       "      <td>tn / (tn + fp)</td>\n",
       "    </tr>\n",
       "    <tr>\n",
       "      <th>4</th>\n",
       "      <td>F1</td>\n",
       "      <td>0.876762</td>\n",
       "      <td>2*precision*recall/(precision+recall)</td>\n",
       "    </tr>\n",
       "  </tbody>\n",
       "</table>\n",
       "</div>"
      ],
      "text/plain": [
       "               metric     Value                            Description\n",
       "0            accuracy  0.830905                  (tp+tn)/(tp+fp+fn+tn)\n",
       "1           precision  0.823813                             tp/(tp+fp)\n",
       "2  sensitivity_recall  0.936986                        tp  / (tp + fn)\n",
       "3         specificity  0.640702                         tn / (tn + fp)\n",
       "4                  F1  0.876762  2*precision*recall/(precision+recall)"
      ]
     },
     "execution_count": 6,
     "metadata": {},
     "output_type": "execute_result"
    }
   ],
   "source": [
    "accuracy, precision, sensitivity_recall, specificity, F1 = calc_metrics(0,cmd)\n",
    "\n",
    "ImageViolenceClassifier = metricsAsDataframe(accuracy, precision, sensitivity_recall, specificity, F1 )\n",
    "ImageViolenceClassifier\n"
   ]
  },
  {
   "cell_type": "markdown",
   "metadata": {},
   "source": [
    "# Predator scores"
   ]
  },
  {
   "cell_type": "code",
   "execution_count": 73,
   "metadata": {},
   "outputs": [],
   "source": [
    "import json\n",
    "import glob\n",
    "import os\n",
    "import pandas as pd\n",
    "path = 'C:/Users/zmads/_workspace/python/IBM Workbooks/FoxStudios/Predator/ModelScores/VideoImageBased/ImageViolenceClass/'\n",
    "boblist = []\n",
    "for filename in glob.glob(os.path.join(path, '*.json')):\n",
    "    with open(filename) as file:\n",
    "        data = file.read()\n",
    "        jsondata = json.loads(data)\n",
    "        foxclass = filename.split('\\\\')[-1][4:-9]         \n",
    "        classname = 'None'\n",
    "        confidence = 0.0\n",
    "        xmax = 0\n",
    "        xmin = 0\n",
    "        ymin = 0\n",
    "        ymax = 0\n",
    "        if type(jsondata) ==  type(None):\n",
    "            #print filename\n",
    "            print(filename.split('\\\\')[-1], foxclass, classname, jsondata['classified'][item] ) \n",
    "        else:\n",
    "            if (jsondata['result'] == 'fail'):\n",
    "                #print filename\n",
    "                print(filename.split('\\\\')[-1], foxclass, classname, jsondata['classified'][item] )\n",
    "            else:\n",
    "                if (len(jsondata['classified']) == 0):\n",
    "                    #print filename\n",
    "                    print(filename.split('\\\\')[-1], foxclass, classname, jsondata['classified'][item] )\n",
    "                else:\n",
    "                    for item in jsondata['classified']:   \n",
    "                        classname = item\n",
    "                        subclassname = item\n",
    "                        value = jsondata['classified'][item] \n",
    "                        nameDict = {\n",
    "                            'Nud_S': 'Nuds',\n",
    "                            'Smoking_Drugs': 'Smok',\n",
    "                            'Violence': 'Violence',\n",
    "                            'Expletive': 'Expletive',\n",
    "                            'None': 'None',\n",
    "                            '_negative_': 'None'\n",
    "                                }\n",
    "                        boblist.append((filename.split('\\\\')[-1], foxclass, nameDict[subclassname], value))\n",
    "                        #print(filename.split('\\\\')[-1], foxclass, classname, value)\n",
    "columns = ['filename', 'FoxClass', 'ModelClass', 'Score']\n",
    "PredatorImageViolenceClassifier = pd.DataFrame(boblist, columns = columns)  \n",
    "\n",
    "\n",
    "\n"
   ]
  },
  {
   "cell_type": "code",
   "execution_count": 75,
   "metadata": {},
   "outputs": [
    {
     "data": {
      "text/html": [
       "<div>\n",
       "<style scoped>\n",
       "    .dataframe tbody tr th:only-of-type {\n",
       "        vertical-align: middle;\n",
       "    }\n",
       "\n",
       "    .dataframe tbody tr th {\n",
       "        vertical-align: top;\n",
       "    }\n",
       "\n",
       "    .dataframe thead th {\n",
       "        text-align: right;\n",
       "    }\n",
       "</style>\n",
       "<table border=\"1\" class=\"dataframe\">\n",
       "  <thead>\n",
       "    <tr style=\"text-align: right;\">\n",
       "      <th></th>\n",
       "      <th>filename</th>\n",
       "      <th>FoxClass</th>\n",
       "      <th>ModelClass</th>\n",
       "      <th>Score</th>\n",
       "    </tr>\n",
       "  </thead>\n",
       "  <tbody>\n",
       "    <tr>\n",
       "      <th>0</th>\n",
       "      <td>0001Violence0001.json</td>\n",
       "      <td>Violence</td>\n",
       "      <td>Violence</td>\n",
       "      <td>0.81324</td>\n",
       "    </tr>\n",
       "    <tr>\n",
       "      <th>1</th>\n",
       "      <td>0001Violence0002.json</td>\n",
       "      <td>Violence</td>\n",
       "      <td>Smok</td>\n",
       "      <td>0.57265</td>\n",
       "    </tr>\n",
       "    <tr>\n",
       "      <th>2</th>\n",
       "      <td>0001Violence0003.json</td>\n",
       "      <td>Violence</td>\n",
       "      <td>Violence</td>\n",
       "      <td>0.80089</td>\n",
       "    </tr>\n",
       "    <tr>\n",
       "      <th>3</th>\n",
       "      <td>0001Violence0004.json</td>\n",
       "      <td>Violence</td>\n",
       "      <td>Violence</td>\n",
       "      <td>0.74114</td>\n",
       "    </tr>\n",
       "    <tr>\n",
       "      <th>4</th>\n",
       "      <td>0001Violence0005.json</td>\n",
       "      <td>Violence</td>\n",
       "      <td>Violence</td>\n",
       "      <td>0.69303</td>\n",
       "    </tr>\n",
       "  </tbody>\n",
       "</table>\n",
       "</div>"
      ],
      "text/plain": [
       "                filename  FoxClass ModelClass    Score\n",
       "0  0001Violence0001.json  Violence   Violence  0.81324\n",
       "1  0001Violence0002.json  Violence       Smok  0.57265\n",
       "2  0001Violence0003.json  Violence   Violence  0.80089\n",
       "3  0001Violence0004.json  Violence   Violence  0.74114\n",
       "4  0001Violence0005.json  Violence   Violence  0.69303"
      ]
     },
     "execution_count": 75,
     "metadata": {},
     "output_type": "execute_result"
    }
   ],
   "source": [
    "PredatorImageViolenceClassifier.head()"
   ]
  },
  {
   "cell_type": "code",
   "execution_count": 76,
   "metadata": {},
   "outputs": [],
   "source": [
    "df = PredatorImageViolenceClassifier"
   ]
  },
  {
   "cell_type": "code",
   "execution_count": 77,
   "metadata": {},
   "outputs": [
    {
     "name": "stdout",
     "output_type": "stream",
     "text": [
      "[[660   0   0 712 203]\n",
      " [186   0   0 309  76]\n",
      " [ 10   0   0  34  13]\n",
      " [104   0   0 101  22]\n",
      " [128   0   0 279  93]]\n"
     ]
    },
    {
     "data": {
      "image/png": "[encoded data removed]",
      "text/plain": [
       "<Figure size 504x504 with 1 Axes>"
      ]
     },
     "metadata": {
      "needs_background": "light"
     },
     "output_type": "display_data"
    }
   ],
   "source": [
    "%matplotlib inline\n",
    "import matplotlib as plt\n",
    "from matplotlib import *\n",
    "import sys\n",
    "from pylab import *\n",
    "from sklearn.metrics import confusion_matrix\n",
    "mlist = ['Predator']\n",
    "#mlist = ['Deadpool2']\n",
    "#mlist = ['Predator', 'Deadpool2']\n",
    "#df = result\n",
    "y_true = df['FoxClass'].values.tolist()\n",
    "y_pred = df['ModelClass'].values.tolist()\n",
    "\n",
    "myset = set(y_true)\n",
    "labels = list(myset)\n",
    "\n",
    "labels = ['Violence', 'Expletive', 'Religious', 'Nuds', 'Smok']\n",
    "cm = confusion_matrix(y_true, y_pred, labels)\n",
    "cmd = cm.copy()\n",
    "print(cm)\n",
    "fig = plt.figure(figsize=(7,7))\n",
    "ax = fig.add_subplot(111)\n",
    "cax = ax.matshow(cm)\n",
    "plt.title('Confusion matrix for %s'%(mlist[0]))\n",
    "ax.set_xticklabels([''] + labels)\n",
    "ax.set_yticklabels([''] + labels)\n",
    "plt.xlabel('Predicted')\n",
    "plt.ylabel('True')\n",
    "plt.show()"
   ]
  },
  {
   "cell_type": "markdown",
   "metadata": {},
   "source": [
    "# Violence predictor metrics for Predator\n"
   ]
  },
  {
   "cell_type": "code",
   "execution_count": 78,
   "metadata": {},
   "outputs": [
    {
     "data": {
      "text/html": [
       "<div>\n",
       "<style scoped>\n",
       "    .dataframe tbody tr th:only-of-type {\n",
       "        vertical-align: middle;\n",
       "    }\n",
       "\n",
       "    .dataframe tbody tr th {\n",
       "        vertical-align: top;\n",
       "    }\n",
       "\n",
       "    .dataframe thead th {\n",
       "        text-align: right;\n",
       "    }\n",
       "</style>\n",
       "<table border=\"1\" class=\"dataframe\">\n",
       "  <thead>\n",
       "    <tr style=\"text-align: right;\">\n",
       "      <th></th>\n",
       "      <th>metric</th>\n",
       "      <th>Value</th>\n",
       "      <th>Description</th>\n",
       "    </tr>\n",
       "  </thead>\n",
       "  <tbody>\n",
       "    <tr>\n",
       "      <th>0</th>\n",
       "      <td>accuracy</td>\n",
       "      <td>0.541638</td>\n",
       "      <td>(tp+tn)/(tp+fp+fn+tn)</td>\n",
       "    </tr>\n",
       "    <tr>\n",
       "      <th>1</th>\n",
       "      <td>precision</td>\n",
       "      <td>0.606618</td>\n",
       "      <td>tp/(tp+fp)</td>\n",
       "    </tr>\n",
       "    <tr>\n",
       "      <th>2</th>\n",
       "      <td>sensitivity_recall</td>\n",
       "      <td>0.419048</td>\n",
       "      <td>tp  / (tp + fn)</td>\n",
       "    </tr>\n",
       "    <tr>\n",
       "      <th>3</th>\n",
       "      <td>specificity</td>\n",
       "      <td>0.684133</td>\n",
       "      <td>tn / (tn + fp)</td>\n",
       "    </tr>\n",
       "    <tr>\n",
       "      <th>4</th>\n",
       "      <td>F1</td>\n",
       "      <td>0.495682</td>\n",
       "      <td>2*precision*recall/(precision+recall)</td>\n",
       "    </tr>\n",
       "  </tbody>\n",
       "</table>\n",
       "</div>"
      ],
      "text/plain": [
       "               metric     Value                            Description\n",
       "0            accuracy  0.541638                  (tp+tn)/(tp+fp+fn+tn)\n",
       "1           precision  0.606618                             tp/(tp+fp)\n",
       "2  sensitivity_recall  0.419048                        tp  / (tp + fn)\n",
       "3         specificity  0.684133                         tn / (tn + fp)\n",
       "4                  F1  0.495682  2*precision*recall/(precision+recall)"
      ]
     },
     "execution_count": 78,
     "metadata": {},
     "output_type": "execute_result"
    }
   ],
   "source": [
    "accuracy, precision, sensitivity_recall, specificity, F1 = calc_metrics(0,cmd)\n",
    "\n",
    "ImageViolenceClassifier = metricsAsDataframe(accuracy, precision, sensitivity_recall, specificity, F1 )\n",
    "ImageViolenceClassifier\n"
   ]
  },
  {
   "cell_type": "markdown",
   "metadata": {},
   "source": [
    "# Nudity/Sexual Content predictor metrics for Predator\n"
   ]
  },
  {
   "cell_type": "code",
   "execution_count": 79,
   "metadata": {},
   "outputs": [
    {
     "data": {
      "text/html": [
       "<div>\n",
       "<style scoped>\n",
       "    .dataframe tbody tr th:only-of-type {\n",
       "        vertical-align: middle;\n",
       "    }\n",
       "\n",
       "    .dataframe tbody tr th {\n",
       "        vertical-align: top;\n",
       "    }\n",
       "\n",
       "    .dataframe thead th {\n",
       "        text-align: right;\n",
       "    }\n",
       "</style>\n",
       "<table border=\"1\" class=\"dataframe\">\n",
       "  <thead>\n",
       "    <tr style=\"text-align: right;\">\n",
       "      <th></th>\n",
       "      <th>metric</th>\n",
       "      <th>Value</th>\n",
       "      <th>Description</th>\n",
       "    </tr>\n",
       "  </thead>\n",
       "  <tbody>\n",
       "    <tr>\n",
       "      <th>0</th>\n",
       "      <td>accuracy</td>\n",
       "      <td>0.501706</td>\n",
       "      <td>(tp+tn)/(tp+fp+fn+tn)</td>\n",
       "    </tr>\n",
       "    <tr>\n",
       "      <th>1</th>\n",
       "      <td>precision</td>\n",
       "      <td>0.070383</td>\n",
       "      <td>tp/(tp+fp)</td>\n",
       "    </tr>\n",
       "    <tr>\n",
       "      <th>2</th>\n",
       "      <td>sensitivity_recall</td>\n",
       "      <td>0.444934</td>\n",
       "      <td>tp  / (tp + fn)</td>\n",
       "    </tr>\n",
       "    <tr>\n",
       "      <th>3</th>\n",
       "      <td>specificity</td>\n",
       "      <td>0.506474</td>\n",
       "      <td>tn / (tn + fp)</td>\n",
       "    </tr>\n",
       "    <tr>\n",
       "      <th>4</th>\n",
       "      <td>F1</td>\n",
       "      <td>0.121540</td>\n",
       "      <td>2*precision*recall/(precision+recall)</td>\n",
       "    </tr>\n",
       "  </tbody>\n",
       "</table>\n",
       "</div>"
      ],
      "text/plain": [
       "               metric     Value                            Description\n",
       "0            accuracy  0.501706                  (tp+tn)/(tp+fp+fn+tn)\n",
       "1           precision  0.070383                             tp/(tp+fp)\n",
       "2  sensitivity_recall  0.444934                        tp  / (tp + fn)\n",
       "3         specificity  0.506474                         tn / (tn + fp)\n",
       "4                  F1  0.121540  2*precision*recall/(precision+recall)"
      ]
     },
     "execution_count": 79,
     "metadata": {},
     "output_type": "execute_result"
    }
   ],
   "source": [
    "accuracy, precision, sensitivity_recall, specificity, F1 = calc_metrics(3,cmd)\n",
    "\n",
    "ImageViolenceClassifier = metricsAsDataframe(accuracy, precision, sensitivity_recall, specificity, F1 )\n",
    "ImageViolenceClassifier\n"
   ]
  },
  {
   "cell_type": "code",
   "execution_count": null,
   "metadata": {},
   "outputs": [],
   "source": []
  }
 ],
 "metadata": {
  "kernelspec": {
   "display_name": "Python 2",
   "language": "python",
   "name": "python2"
  },
  "language_info": {
   "codemirror_mode": {
    "name": "ipython",
    "version": 2
   },
   "file_extension": ".py",
   "mimetype": "text/x-python",
   "name": "python",
   "nbconvert_exporter": "python",
   "pygments_lexer": "ipython2",
   "version": "2.7.15"
  }
 },
 "nbformat": 4,
 "nbformat_minor": 2
}
