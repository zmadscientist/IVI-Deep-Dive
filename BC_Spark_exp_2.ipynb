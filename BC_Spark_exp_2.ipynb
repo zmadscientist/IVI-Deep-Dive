{
    "nbformat_minor": 1, 
    "cells": [
        {
            "source": "\nimport sys\nfrom operator import add\n\nfrom pyspark import SparkContext\n\n\nif __name__ == \"__main__\":\n    if len(sys.argv) < 3:\n        print >> sys.stderr, \"Usage: wordcount <master> <file>\"\n        exit(-1)\n    #sc = SparkContext(sys.argv[1], \"PythonWordCount\")\n    lines = sc.textFile(sys.argv[2], 1)\n    counts = lines.flatMap(lambda x: x.split(' ')) \\\n                  .map(lambda x: (x, 1)) \\\n                  .reduceByKey(add)\n    output = counts.collect()\n    for (word, count) in output:\n        print \"%s: %i\" % (word, count)", 
            "cell_type": "code", 
            "execution_count": 5, 
            "outputs": [
                {
                    "output_type": "stream", 
                    "name": "stdout", 
                    "text": ": 29\n\"signature_scheme\":: 1\n38542: 1\n58497,: 1\n\"stdin_port\":: 1\n\"127.0.0.1\",: 1\n57971,: 1\n53482,: 1\n\"tcp\",: 1\n\"hb_port\":: 1\n\"d30fa491-1f31373db07151da0e434029\",: 1\n\"transport\":: 1\n\"key\":: 1\n\"control_port\":: 1\n52317,: 1\n\"ip\":: 1\n\"\",: 1\n\"hmac-sha256\",: 1\n\"iopub_port\":: 1\n\"kernel_name\":: 1\n{: 1\n\"shell_port\":: 1\n}: 1\n"
                }
            ], 
            "metadata": {}
        }, 
        {
            "source": "\n", 
            "cell_type": "code", 
            "execution_count": null, 
            "outputs": [], 
            "metadata": {}
        }, 
        {
            "source": "", 
            "cell_type": "code", 
            "execution_count": null, 
            "outputs": [], 
            "metadata": {
                "collapsed": true
            }
        }
    ], 
    "nbformat": 4, 
    "metadata": {
        "kernelspec": {
            "display_name": "Python 2 with Spark 1.6", 
            "name": "python2", 
            "language": "python"
        }, 
        "language_info": {
            "mimetype": "text/x-python", 
            "nbconvert_exporter": "python", 
            "version": "2.7.11", 
            "name": "python", 
            "pygments_lexer": "ipython2", 
            "file_extension": ".py", 
            "codemirror_mode": {
                "version": 2, 
                "name": "ipython"
            }
        }
    }
}