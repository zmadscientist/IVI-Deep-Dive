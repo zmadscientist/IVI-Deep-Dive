{
    "nbformat_minor": 1, 
    "cells": [
        {
            "source": "# Access DSX Datasets\nGo to Data Services tab above\nfind a dataset\nsuch as Country Population\ninspect it\nclick the chain link icon to the upper left\ncopy the link url\nuse a wget to load the data into my working folder", 
            "cell_type": "markdown", 
            "metadata": {}
        }, 
        {
            "source": "%%bash\n#wget https://apsportal.ibm.com/exchange-api/v1/entries/889ca053a19986a4445839358a91963e/data?accessKey=e8f2f908a9b0a5ef729db0fb4180d7e3\n", 
            "cell_type": "code", 
            "execution_count": 9, 
            "outputs": [
                {
                    "output_type": "stream", 
                    "name": "stdout", 
                    "text": "-rw------- 1 s37a-6a8375ad9b78b5-6459f7095f24 users 442232 Oct  1 22:25 DSX_Population\n"
                }
            ], 
            "metadata": {}
        }
    ], 
    "nbformat": 4, 
    "metadata": {
        "kernelspec": {
            "display_name": "Python 2 with Spark 2.0", 
            "name": "python2-spark20", 
            "language": "python"
        }, 
        "language_info": {
            "mimetype": "text/x-python", 
            "nbconvert_exporter": "python", 
            "version": "2.7.11", 
            "name": "python", 
            "pygments_lexer": "ipython2", 
            "file_extension": ".py", 
            "codemirror_mode": {
                "version": 2, 
                "name": "ipython"
            }
        }
    }
}