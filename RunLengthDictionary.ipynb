{
 "cells": [
  {
   "cell_type": "code",
   "execution_count": 23,
   "metadata": {},
   "outputs": [],
   "source": [
    "def RunLengthDictionaryIndex(clip):\n",
    "    d = {}\n",
    "    count = 1\n",
    "    LastVal = None\n",
    "    Lastndex = 0\n",
    "    for i,v in enumerate(clip):\n",
    "        if v == LastVal:\n",
    "            count += 1\n",
    "            d[Lastndex] = (v,count)\n",
    "        else:\n",
    "            count = 1            \n",
    "            d[i] = (v,count)\n",
    "            Lastndex = i\n",
    "        LastVal = v\n",
    "    return d\n",
    "\n",
    "def RunLengthDictionaryValue(clip):\n",
    "    d = {}\n",
    "    count = 1\n",
    "    LastVal = None\n",
    "    LastIndex = 0\n",
    "    di = {}\n",
    "    for i,v in enumerate(clip):\n",
    "        if v == LastVal:\n",
    "            if i > LastIndex:\n",
    "                count += 1\n",
    "                di[i] = count\n",
    "                d[v][-1] = (LastIndex,count)\n",
    "        else:\n",
    "            count = 1\n",
    "            if len(d) > 0:\n",
    "                if v in d.keys():\n",
    "                    di[i] = count\n",
    "                    d[v].append((i,count))\n",
    "                else: \n",
    "                    di[i] = count\n",
    "                    d[v] = [(i,di[i])]\n",
    "            else:\n",
    "                di[i] = count\n",
    "                d[v] = [(i,di[i])]\n",
    "            LastIndex = i\n",
    "            LastVal = v       \n",
    "    return d"
   ]
  },
  {
   "cell_type": "code",
   "execution_count": 24,
   "metadata": {},
   "outputs": [
    {
     "data": {
      "text/plain": [
       "{0: [(0, 1), (25, 3), (29, 1)],\n",
       " 1: [(1, 5), (15, 4), (28, 1)],\n",
       " 2: [(6, 3)],\n",
       " 3: [(9, 2), (19, 6)],\n",
       " 4: [(11, 1)],\n",
       " 5: [(12, 1)],\n",
       " 6: [(13, 1)],\n",
       " 7: [(14, 1)]}"
      ]
     },
     "execution_count": 24,
     "metadata": {},
     "output_type": "execute_result"
    }
   ],
   "source": [
    "bob = [0,1,1,1,1,1,2,2,2,3,3,4,5,6,7,1,1,1,1,3,3,3,3,3,3,0, 0, 0, 1, 0]\n",
    "d = RunLengthDictionaryValue(bob)\n",
    "d"
   ]
  },
  {
   "cell_type": "code",
   "execution_count": 25,
   "metadata": {},
   "outputs": [
    {
     "data": {
      "text/plain": [
       "{True: [(0, 2), (3, 3), (9, 4), (17, 1)],\n",
       " False: [(2, 1), (6, 3), (13, 4), (18, 1)]}"
      ]
     },
     "execution_count": 25,
     "metadata": {},
     "output_type": "execute_result"
    }
   ],
   "source": [
    "fred = [True, True, False, True, True, True, False, False, False, True, True, True, True, False, 0, 0, 0, 1, 0]\n",
    "Vals = RunLengthDictionaryValue(fred)\n",
    "Vals"
   ]
  },
  {
   "cell_type": "code",
   "execution_count": 26,
   "metadata": {},
   "outputs": [
    {
     "data": {
      "text/plain": [
       "{0: (True, 2),\n",
       " 2: (False, 1),\n",
       " 3: (True, 3),\n",
       " 6: (False, 3),\n",
       " 9: (True, 4),\n",
       " 13: (0, 4),\n",
       " 17: (1, 1),\n",
       " 18: (0, 1)}"
      ]
     },
     "execution_count": 26,
     "metadata": {},
     "output_type": "execute_result"
    }
   ],
   "source": [
    "RunLengthDictionaryIndex(fred)"
   ]
  },
  {
   "cell_type": "code",
   "execution_count": 27,
   "metadata": {},
   "outputs": [
    {
     "data": {
      "text/plain": [
       "{True: [(0, 2), (3, 3), (9, 4), (17, 1)],\n",
       " False: [(2, 1), (6, 3), (13, 4), (18, 1)]}"
      ]
     },
     "execution_count": 27,
     "metadata": {},
     "output_type": "execute_result"
    }
   ],
   "source": [
    "Vals"
   ]
  },
  {
   "cell_type": "code",
   "execution_count": null,
   "metadata": {},
   "outputs": [],
   "source": []
  },
  {
   "cell_type": "code",
   "execution_count": null,
   "metadata": {},
   "outputs": [],
   "source": []
  },
  {
   "cell_type": "code",
   "execution_count": null,
   "metadata": {},
   "outputs": [],
   "source": []
  },
  {
   "cell_type": "code",
   "execution_count": null,
   "metadata": {},
   "outputs": [],
   "source": []
  },
  {
   "cell_type": "code",
   "execution_count": null,
   "metadata": {},
   "outputs": [],
   "source": []
  }
 ],
 "metadata": {
  "kernelspec": {
   "display_name": "mldl",
   "language": "python",
   "name": "mldl"
  },
  "language_info": {
   "codemirror_mode": {
    "name": "ipython",
    "version": 3
   },
   "file_extension": ".py",
   "mimetype": "text/x-python",
   "name": "python",
   "nbconvert_exporter": "python",
   "pygments_lexer": "ipython3",
   "version": "3.6.7"
  }
 },
 "nbformat": 4,
 "nbformat_minor": 2
}
