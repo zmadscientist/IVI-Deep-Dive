{
    "nbformat_minor": 1, 
    "cells": [
        {
            "source": "Attribution:\nhttps://stats.stackexchange.com/questions/69157/why-do-we-need-to-normalize-data-before-principal-component-analysis-pca\n\nAlso Jason Brownlee\nhttps://machinelearningmastery.com/normalize-standardize-time-series-data-python/\n\ndatasets:\nhttp://vincentarelbundock.github.io/Rdatasets/datasets.html\n\nhttp://vincentarelbundock.github.io/Rdatasets/csv/datasets/USArrests.csv\n\nhttps://datamarket.com/data/set/2324/daily-minimum-temperatures-in-melbourne-australia-1981-1990\n\nThis tutorial assumes that the dataset is in your current working directory with the filename \u201cdaily-minimum-temperatures-in-me.csv\u201c.\n\n**Note: The downloaded file contains some question mark (\u201c?\u201d) characters that must be removed before you can use the dataset. Open the file in a text editor and remove the \u201c?\u201d characters. Also remove any footer information in the file.**", 
            "cell_type": "markdown", 
            "metadata": {
                "collapsed": true
            }
        }, 
        {
            "source": "# Standardization vs Normalization\n\nDemonstrates the importance of Standardization for PCA and details and differences between Normalization and Standardization.\n\nStandardization implies that data has been centered and adjusted by std for each column. Do PCA on this is actually doing PCA based on correlation\n\nCentering the data without normalizing by std is doing PCA based on Covariance\n", 
            "cell_type": "markdown", 
            "metadata": {}
        }, 
        {
            "source": "from io import StringIO\nimport requests\nimport json\nimport pandas as pd\n\n# @hidden_cell\n# This function accesses a file in your Object Storage. The definition contains your credentials.\n# You might want to remove those credentials before you share your notebook.\ndef get_object_storage_file_with_credentials_e8cf95d1871249f5a07b143d737452a3(container, filename):\n    \"\"\"This functions returns a StringIO object containing\n    the file content from Bluemix Object Storage.\"\"\"\n\n    url1 = ''.join(['https://identity.open.softlayer.com', '/v3/auth/tokens'])\n    data = {'auth': {'identity': {'methods': ['password'],\n            'password': {'user': {'name': 'member_7acbfd2665aad558982f2c5c8bc113c09b760fc9','domain': {'id': 'e9adc56488ce41ffb7469bc094b4e4dd'},\n            'password': 'y}&}f)2S68jCj7ac'}}}}}\n    headers1 = {'Content-Type': 'application/json'}\n    resp1 = requests.post(url=url1, data=json.dumps(data), headers=headers1)\n    resp1_body = resp1.json()\n    for e1 in resp1_body['token']['catalog']:\n        if(e1['type']=='object-store'):\n            for e2 in e1['endpoints']:\n                        if(e2['interface']=='public'and e2['region']=='dallas'):\n                            url2 = ''.join([e2['url'],'/', container, '/', filename])\n    s_subject_token = resp1.headers['x-subject-token']\n    headers2 = {'X-Auth-Token': s_subject_token, 'accept': 'application/json'}\n    resp2 = requests.get(url=url2, headers=headers2)\n    return StringIO(resp2.text)\n\ncrime = pd.read_csv(get_object_storage_file_with_credentials_e8cf95d1871249f5a07b143d737452a3('DefaultProjectrobertachesebroughibmcom', 'USArrests.csv'))\ncrime.head()\n\n", 
            "cell_type": "code", 
            "execution_count": 31, 
            "outputs": [
                {
                    "output_type": "execute_result", 
                    "data": {
                        "text/plain": "   Unnamed: 0  Murder  Assault  UrbanPop  Rape\n0     Alabama    13.2      236        58  21.2\n1      Alaska    10.0      263        48  44.5\n2     Arizona     8.1      294        80  31.0\n3    Arkansas     8.8      190        50  19.5\n4  California     9.0      276        91  40.6", 
                        "text/html": "<div>\n<style scoped>\n    .dataframe tbody tr th:only-of-type {\n        vertical-align: middle;\n    }\n\n    .dataframe tbody tr th {\n        vertical-align: top;\n    }\n\n    .dataframe thead th {\n        text-align: right;\n    }\n</style>\n<table border=\"1\" class=\"dataframe\">\n  <thead>\n    <tr style=\"text-align: right;\">\n      <th></th>\n      <th>Unnamed: 0</th>\n      <th>Murder</th>\n      <th>Assault</th>\n      <th>UrbanPop</th>\n      <th>Rape</th>\n    </tr>\n  </thead>\n  <tbody>\n    <tr>\n      <th>0</th>\n      <td>Alabama</td>\n      <td>13.2</td>\n      <td>236</td>\n      <td>58</td>\n      <td>21.2</td>\n    </tr>\n    <tr>\n      <th>1</th>\n      <td>Alaska</td>\n      <td>10.0</td>\n      <td>263</td>\n      <td>48</td>\n      <td>44.5</td>\n    </tr>\n    <tr>\n      <th>2</th>\n      <td>Arizona</td>\n      <td>8.1</td>\n      <td>294</td>\n      <td>80</td>\n      <td>31.0</td>\n    </tr>\n    <tr>\n      <th>3</th>\n      <td>Arkansas</td>\n      <td>8.8</td>\n      <td>190</td>\n      <td>50</td>\n      <td>19.5</td>\n    </tr>\n    <tr>\n      <th>4</th>\n      <td>California</td>\n      <td>9.0</td>\n      <td>276</td>\n      <td>91</td>\n      <td>40.6</td>\n    </tr>\n  </tbody>\n</table>\n</div>"
                    }, 
                    "execution_count": 31, 
                    "metadata": {}
                }
            ], 
            "metadata": {}
        }, 
        {
            "source": "# PCA No scaling: Raw Data", 
            "cell_type": "markdown", 
            "metadata": {}
        }, 
        {
            "source": "import numpy as np\nimport pandas as pd\nfrom sklearn.decomposition import PCA\n\nfeatures = ['Murder','Assault','UrbanPop','Rape']\n\npca = PCA(n_components=4)\n\nprincipalComponentsRaw = pca.fit_transform(crime.loc[:,features])\n\nprincipalComponentsRawDf = pd.DataFrame(principalComponentsRaw)\n#principalComponentsRawDf.columns = features\nprincipalComponentsRawDf.head()\n", 
            "cell_type": "code", 
            "execution_count": 102, 
            "outputs": [
                {
                    "output_type": "execute_result", 
                    "data": {
                        "text/plain": "            0          1          2         3\n0   64.802164  11.448007  -2.494933  2.407901\n1   92.827450  17.982943  20.126575 -4.094047\n2  124.068216  -8.830403  -1.687448 -4.353685\n3   18.340035  16.703911   0.210189 -0.520994\n4  107.422953 -22.520070   6.745873 -2.811826", 
                        "text/html": "<div>\n<style scoped>\n    .dataframe tbody tr th:only-of-type {\n        vertical-align: middle;\n    }\n\n    .dataframe tbody tr th {\n        vertical-align: top;\n    }\n\n    .dataframe thead th {\n        text-align: right;\n    }\n</style>\n<table border=\"1\" class=\"dataframe\">\n  <thead>\n    <tr style=\"text-align: right;\">\n      <th></th>\n      <th>0</th>\n      <th>1</th>\n      <th>2</th>\n      <th>3</th>\n    </tr>\n  </thead>\n  <tbody>\n    <tr>\n      <th>0</th>\n      <td>64.802164</td>\n      <td>11.448007</td>\n      <td>-2.494933</td>\n      <td>2.407901</td>\n    </tr>\n    <tr>\n      <th>1</th>\n      <td>92.827450</td>\n      <td>17.982943</td>\n      <td>20.126575</td>\n      <td>-4.094047</td>\n    </tr>\n    <tr>\n      <th>2</th>\n      <td>124.068216</td>\n      <td>-8.830403</td>\n      <td>-1.687448</td>\n      <td>-4.353685</td>\n    </tr>\n    <tr>\n      <th>3</th>\n      <td>18.340035</td>\n      <td>16.703911</td>\n      <td>0.210189</td>\n      <td>-0.520994</td>\n    </tr>\n    <tr>\n      <th>4</th>\n      <td>107.422953</td>\n      <td>-22.520070</td>\n      <td>6.745873</td>\n      <td>-2.811826</td>\n    </tr>\n  </tbody>\n</table>\n</div>"
                    }, 
                    "execution_count": 102, 
                    "metadata": {}
                }
            ], 
            "metadata": {}
        }, 
        {
            "source": "pca.explained_variance_ratio_", 
            "cell_type": "code", 
            "execution_count": 103, 
            "outputs": [
                {
                    "output_type": "execute_result", 
                    "data": {
                        "text/plain": "array([  9.65534221e-01,   2.78173366e-02,   5.79953492e-03,\n         8.48907879e-04])"
                    }, 
                    "execution_count": 103, 
                    "metadata": {}
                }
            ], 
            "metadata": {}
        }, 
        {
            "source": "print(pca.singular_values_)  ", 
            "cell_type": "code", 
            "execution_count": 104, 
            "outputs": [
                {
                    "output_type": "stream", 
                    "name": "stdout", 
                    "text": "[ 586.12680172   99.48681294   45.42598251   17.37953   ]\n"
                }
            ], 
            "metadata": {}
        }, 
        {
            "source": "%matplotlib inline\nimport matplotlib.pyplot as plt\n\nplt.title(\"Prior to Standardizing\")\nplt.bar(['PC %s' %i for i in range(1,5)] ,pca.explained_variance_ratio_)\n\nplt.show()", 
            "cell_type": "code", 
            "execution_count": 105, 
            "outputs": [
                {
                    "output_type": "display_data", 
                    "data": {
                        "image/png": "[encoded data removed]", 
                        "text/plain": "<matplotlib.figure.Figure at 0x7fb4b8e88f60>"
                    }, 
                    "metadata": {}
                }
            ], 
            "metadata": {}
        }, 
        {
            "source": "# zero mean scaled data\n\nYeilds same pca values - implying that PCA does zero mean scaling internally", 
            "cell_type": "markdown", 
            "metadata": {}
        }, 
        {
            "source": "X = crime.loc[:,features]\n#((X-X.mean(0))/X.std(ddof=0)).head()\nX_zeroscale = (X-X.mean(0))\nX_zeroscale.head()\n\nimport numpy as np\nimport pandas as pd\nfrom sklearn.decomposition import PCA\n\nfeatures = ['Murder','Assault','UrbanPop','Rape']\nncomps = 4\npca = PCA(n_components=ncomps)\n\nprincipalComponentsRaw = pca.fit_transform(X_zeroscale.loc[:,features])\n\nprincipalComponentsRawDf = pd.DataFrame(principalComponentsRaw)\n#principalComponentsRawDf.columns = features\nprincipalComponentsRawDf.head()\n", 
            "cell_type": "code", 
            "execution_count": 125, 
            "outputs": [
                {
                    "output_type": "execute_result", 
                    "data": {
                        "text/plain": "            0          1          2         3\n0   64.802164  11.448007  -2.494933  2.407901\n1   92.827450  17.982943  20.126575 -4.094047\n2  124.068216  -8.830403  -1.687448 -4.353685\n3   18.340035  16.703911   0.210189 -0.520994\n4  107.422953 -22.520070   6.745873 -2.811826", 
                        "text/html": "<div>\n<style scoped>\n    .dataframe tbody tr th:only-of-type {\n        vertical-align: middle;\n    }\n\n    .dataframe tbody tr th {\n        vertical-align: top;\n    }\n\n    .dataframe thead th {\n        text-align: right;\n    }\n</style>\n<table border=\"1\" class=\"dataframe\">\n  <thead>\n    <tr style=\"text-align: right;\">\n      <th></th>\n      <th>0</th>\n      <th>1</th>\n      <th>2</th>\n      <th>3</th>\n    </tr>\n  </thead>\n  <tbody>\n    <tr>\n      <th>0</th>\n      <td>64.802164</td>\n      <td>11.448007</td>\n      <td>-2.494933</td>\n      <td>2.407901</td>\n    </tr>\n    <tr>\n      <th>1</th>\n      <td>92.827450</td>\n      <td>17.982943</td>\n      <td>20.126575</td>\n      <td>-4.094047</td>\n    </tr>\n    <tr>\n      <th>2</th>\n      <td>124.068216</td>\n      <td>-8.830403</td>\n      <td>-1.687448</td>\n      <td>-4.353685</td>\n    </tr>\n    <tr>\n      <th>3</th>\n      <td>18.340035</td>\n      <td>16.703911</td>\n      <td>0.210189</td>\n      <td>-0.520994</td>\n    </tr>\n    <tr>\n      <th>4</th>\n      <td>107.422953</td>\n      <td>-22.520070</td>\n      <td>6.745873</td>\n      <td>-2.811826</td>\n    </tr>\n  </tbody>\n</table>\n</div>"
                    }, 
                    "execution_count": 125, 
                    "metadata": {}
                }
            ], 
            "metadata": {}
        }, 
        {
            "source": "pca.explained_variance_ratio_", 
            "cell_type": "code", 
            "execution_count": 107, 
            "outputs": [
                {
                    "output_type": "execute_result", 
                    "data": {
                        "text/plain": "array([  9.65534221e-01,   2.78173366e-02,   5.79953492e-03,\n         8.48907879e-04])"
                    }, 
                    "execution_count": 107, 
                    "metadata": {}
                }
            ], 
            "metadata": {}
        }, 
        {
            "source": "print(pca.singular_values_) ", 
            "cell_type": "code", 
            "execution_count": 108, 
            "outputs": [
                {
                    "output_type": "stream", 
                    "name": "stdout", 
                    "text": "[ 586.12680172   99.48681294   45.42598251   17.37953   ]\n"
                }
            ], 
            "metadata": {}
        }, 
        {
            "source": "%matplotlib inline\nimport matplotlib.pyplot as plt\n\nplt.title(\"Prior to Standardizing\")\nplt.bar(['PC %s' %i for i in range(1,5)] ,pca.explained_variance_ratio_)\n\nplt.show()", 
            "cell_type": "code", 
            "execution_count": 109, 
            "outputs": [
                {
                    "output_type": "display_data", 
                    "data": {
                        "image/png": "[encoded data removed]", 
                        "text/plain": "<matplotlib.figure.Figure at 0x7fb4b92ea358>"
                    }, 
                    "metadata": {}
                }
            ], 
            "metadata": {}
        }, 
        {
            "source": "from sklearn.preprocessing import StandardScaler\n\n# Standardizing the features\nStd = StandardScaler().fit_transform(crime.loc[:,features]) \ndfStd = pd.DataFrame(Std)\ndfStd.columns = features", 
            "cell_type": "code", 
            "execution_count": 110, 
            "outputs": [], 
            "metadata": {}
        }, 
        {
            "source": "# Compare StandardScaler to Manual Method\n\nBe aware that numpy and pandas have different defaults for coputing standard deviation in terms of using \nsample or population standard deviation\n\nThis can be controlled by spcifying ddof inside std():\n\n- std(ddof = 0) means population standard deviation\n- std(ddof = 1) means sample standard deviation", 
            "cell_type": "markdown", 
            "metadata": {}
        }, 
        {
            "source": "X = crime.loc[:,features]\n((X-X.mean(0))/X.std(ddof=0)).head()\n", 
            "cell_type": "code", 
            "execution_count": 111, 
            "outputs": [
                {
                    "output_type": "execute_result", 
                    "data": {
                        "text/plain": "     Murder   Assault  UrbanPop      Rape\n0  1.255179  0.790787 -0.526195 -0.003451\n1  0.513019  1.118060 -1.224067  2.509424\n2  0.072361  1.493817  1.009122  1.053466\n3  0.234708  0.233212 -1.084492 -0.186794\n4  0.281093  1.275635  1.776781  2.088814", 
                        "text/html": "<div>\n<style scoped>\n    .dataframe tbody tr th:only-of-type {\n        vertical-align: middle;\n    }\n\n    .dataframe tbody tr th {\n        vertical-align: top;\n    }\n\n    .dataframe thead th {\n        text-align: right;\n    }\n</style>\n<table border=\"1\" class=\"dataframe\">\n  <thead>\n    <tr style=\"text-align: right;\">\n      <th></th>\n      <th>Murder</th>\n      <th>Assault</th>\n      <th>UrbanPop</th>\n      <th>Rape</th>\n    </tr>\n  </thead>\n  <tbody>\n    <tr>\n      <th>0</th>\n      <td>1.255179</td>\n      <td>0.790787</td>\n      <td>-0.526195</td>\n      <td>-0.003451</td>\n    </tr>\n    <tr>\n      <th>1</th>\n      <td>0.513019</td>\n      <td>1.118060</td>\n      <td>-1.224067</td>\n      <td>2.509424</td>\n    </tr>\n    <tr>\n      <th>2</th>\n      <td>0.072361</td>\n      <td>1.493817</td>\n      <td>1.009122</td>\n      <td>1.053466</td>\n    </tr>\n    <tr>\n      <th>3</th>\n      <td>0.234708</td>\n      <td>0.233212</td>\n      <td>-1.084492</td>\n      <td>-0.186794</td>\n    </tr>\n    <tr>\n      <th>4</th>\n      <td>0.281093</td>\n      <td>1.275635</td>\n      <td>1.776781</td>\n      <td>2.088814</td>\n    </tr>\n  </tbody>\n</table>\n</div>"
                    }, 
                    "execution_count": 111, 
                    "metadata": {}
                }
            ], 
            "metadata": {}
        }, 
        {
            "source": "dfStd.head()", 
            "cell_type": "code", 
            "execution_count": 112, 
            "outputs": [
                {
                    "output_type": "execute_result", 
                    "data": {
                        "text/plain": "     Murder   Assault  UrbanPop      Rape\n0  1.255179  0.790787 -0.526195 -0.003451\n1  0.513019  1.118060 -1.224067  2.509424\n2  0.072361  1.493817  1.009122  1.053466\n3  0.234708  0.233212 -1.084492 -0.186794\n4  0.281093  1.275635  1.776781  2.088814", 
                        "text/html": "<div>\n<style scoped>\n    .dataframe tbody tr th:only-of-type {\n        vertical-align: middle;\n    }\n\n    .dataframe tbody tr th {\n        vertical-align: top;\n    }\n\n    .dataframe thead th {\n        text-align: right;\n    }\n</style>\n<table border=\"1\" class=\"dataframe\">\n  <thead>\n    <tr style=\"text-align: right;\">\n      <th></th>\n      <th>Murder</th>\n      <th>Assault</th>\n      <th>UrbanPop</th>\n      <th>Rape</th>\n    </tr>\n  </thead>\n  <tbody>\n    <tr>\n      <th>0</th>\n      <td>1.255179</td>\n      <td>0.790787</td>\n      <td>-0.526195</td>\n      <td>-0.003451</td>\n    </tr>\n    <tr>\n      <th>1</th>\n      <td>0.513019</td>\n      <td>1.118060</td>\n      <td>-1.224067</td>\n      <td>2.509424</td>\n    </tr>\n    <tr>\n      <th>2</th>\n      <td>0.072361</td>\n      <td>1.493817</td>\n      <td>1.009122</td>\n      <td>1.053466</td>\n    </tr>\n    <tr>\n      <th>3</th>\n      <td>0.234708</td>\n      <td>0.233212</td>\n      <td>-1.084492</td>\n      <td>-0.186794</td>\n    </tr>\n    <tr>\n      <th>4</th>\n      <td>0.281093</td>\n      <td>1.275635</td>\n      <td>1.776781</td>\n      <td>2.088814</td>\n    </tr>\n  </tbody>\n</table>\n</div>"
                    }, 
                    "execution_count": 112, 
                    "metadata": {}
                }
            ], 
            "metadata": {}
        }, 
        {
            "source": "pca = PCA(n_components=4)\n\npca.fit_transform(Std)\n\npca.explained_variance_ratio_", 
            "cell_type": "code", 
            "execution_count": 113, 
            "outputs": [
                {
                    "output_type": "execute_result", 
                    "data": {
                        "text/plain": "array([ 0.62006039,  0.24744129,  0.0891408 ,  0.04335752])"
                    }, 
                    "execution_count": 113, 
                    "metadata": {}
                }
            ], 
            "metadata": {}
        }, 
        {
            "source": "print(pca.singular_values_)  ", 
            "cell_type": "code", 
            "execution_count": 114, 
            "outputs": [
                {
                    "output_type": "stream", 
                    "name": "stdout", 
                    "text": "[ 11.13607107   7.0347891    4.22234047   2.94474182]\n"
                }
            ], 
            "metadata": {}
        }, 
        {
            "source": "%matplotlib inline\nimport matplotlib.pyplot as plt\n\nplt.title(\"After Standardizing\")\nplt.bar(['PC %s' %i for i in range(1,5)] ,pca.explained_variance_ratio_)\n\nplt.show()", 
            "cell_type": "code", 
            "execution_count": 115, 
            "outputs": [
                {
                    "output_type": "display_data", 
                    "data": {
                        "image/png": "[encoded data removed]", 
                        "text/plain": "<matplotlib.figure.Figure at 0x7fb4bd8f8da0>"
                    }, 
                    "metadata": {}
                }
            ], 
            "metadata": {}
        }, 
        {
            "source": "", 
            "cell_type": "code", 
            "execution_count": null, 
            "outputs": [], 
            "metadata": {}
        }, 
        {
            "source": "temps = pd.read_csv(get_object_storage_file_with_credentials_e8cf95d1871249f5a07b143d737452a3('DefaultProjectrobertachesebroughibmcom', 'daily-minimum-temperatures-in-me.csv'))\ntemps.columns = ['Date', 'Temperature']\ntemps.describe()", 
            "cell_type": "code", 
            "execution_count": 116, 
            "outputs": [
                {
                    "output_type": "execute_result", 
                    "data": {
                        "text/plain": "       Temperature\ncount  3650.000000\nmean     11.177753\nstd       4.071837\nmin       0.000000\n25%       8.300000\n50%      11.000000\n75%      14.000000\nmax      26.300000", 
                        "text/html": "<div>\n<style scoped>\n    .dataframe tbody tr th:only-of-type {\n        vertical-align: middle;\n    }\n\n    .dataframe tbody tr th {\n        vertical-align: top;\n    }\n\n    .dataframe thead th {\n        text-align: right;\n    }\n</style>\n<table border=\"1\" class=\"dataframe\">\n  <thead>\n    <tr style=\"text-align: right;\">\n      <th></th>\n      <th>Temperature</th>\n    </tr>\n  </thead>\n  <tbody>\n    <tr>\n      <th>count</th>\n      <td>3650.000000</td>\n    </tr>\n    <tr>\n      <th>mean</th>\n      <td>11.177753</td>\n    </tr>\n    <tr>\n      <th>std</th>\n      <td>4.071837</td>\n    </tr>\n    <tr>\n      <th>min</th>\n      <td>0.000000</td>\n    </tr>\n    <tr>\n      <th>25%</th>\n      <td>8.300000</td>\n    </tr>\n    <tr>\n      <th>50%</th>\n      <td>11.000000</td>\n    </tr>\n    <tr>\n      <th>75%</th>\n      <td>14.000000</td>\n    </tr>\n    <tr>\n      <th>max</th>\n      <td>26.300000</td>\n    </tr>\n  </tbody>\n</table>\n</div>"
                    }, 
                    "execution_count": 116, 
                    "metadata": {}
                }
            ], 
            "metadata": {}
        }, 
        {
            "source": "# Normalizing Columns\n\nIn this case Normalizing refers to max min scaling but other DS might consider normilizing by l1 or l2 or l_inf\nProbably MaxMinScaling is the most common meaning of Normalizing\n\nFrom Brownlee:\n - Normalization is a rescaling of the data from the original range so that all values are within the range of 0 and 1.\n\n - Normalization can be useful, and even required in some machine learning algorithms when your time series data has input values with differing scales.It may be required for algorithms, like k-Nearest neighbors, which uses distance calculations and Linear Regression and Artificial Neural Networks that weight input values.\n\n - Normalization requires that you know or are able to accurately estimate the minimum and maximum observable values. You may be able to estimate these values from your available data. If your time series is trending up or down, estimating these expected values may be difficult and normalization may not be the best method to use on your problem.\n\n - A value is normalized as follows:\n - - y = (x - min) / (max - min)", 
            "cell_type": "markdown", 
            "metadata": {}
        }, 
        {
            "source": "from sklearn import preprocessing\n\n#convert string values to float\ntemps['Temperature'] = temps['Temperature'].apply(pd.to_numeric, errors='coerce')\n\n# Create x, where x the 'scores' column's values as floats\nx = temps[['Temperature']].values.astype(float)\n\n# Create a minimum and maximum processor object\nmin_max_scaler = preprocessing.MinMaxScaler()\n\n# Create an object to transform the data to fit minmax processor\nx_scaled = min_max_scaler.fit_transform(x)\n\n# Run the normalizer on the dataframe\ndf_normalized = pd.DataFrame(x_scaled)\n", 
            "cell_type": "code", 
            "execution_count": 117, 
            "outputs": [], 
            "metadata": {}
        }, 
        {
            "source": "df_normalized.head()", 
            "cell_type": "code", 
            "execution_count": 118, 
            "outputs": [
                {
                    "output_type": "execute_result", 
                    "data": {
                        "text/plain": "          0\n0  0.787072\n1  0.680608\n2  0.714829\n3  0.555133\n4  0.600760", 
                        "text/html": "<div>\n<style scoped>\n    .dataframe tbody tr th:only-of-type {\n        vertical-align: middle;\n    }\n\n    .dataframe tbody tr th {\n        vertical-align: top;\n    }\n\n    .dataframe thead th {\n        text-align: right;\n    }\n</style>\n<table border=\"1\" class=\"dataframe\">\n  <thead>\n    <tr style=\"text-align: right;\">\n      <th></th>\n      <th>0</th>\n    </tr>\n  </thead>\n  <tbody>\n    <tr>\n      <th>0</th>\n      <td>0.787072</td>\n    </tr>\n    <tr>\n      <th>1</th>\n      <td>0.680608</td>\n    </tr>\n    <tr>\n      <th>2</th>\n      <td>0.714829</td>\n    </tr>\n    <tr>\n      <th>3</th>\n      <td>0.555133</td>\n    </tr>\n    <tr>\n      <th>4</th>\n      <td>0.600760</td>\n    </tr>\n  </tbody>\n</table>\n</div>"
                    }, 
                    "execution_count": 118, 
                    "metadata": {}
                }
            ], 
            "metadata": {}
        }, 
        {
            "source": "# Inverting the Min_Max_Scaler\n\nIf needed, the transform can be inverted. This is useful for converting predictions back into their original scale for reporting or plotting. This can be done by calling the inverse_transform() function.", 
            "cell_type": "markdown", 
            "metadata": {}
        }, 
        {
            "source": "# inverse transform and print the first 5 rows\ninversed = min_max_scaler.inverse_transform(df_normalized)\nfor i in range(5):\n    print(inversed[i])", 
            "cell_type": "code", 
            "execution_count": 119, 
            "outputs": [
                {
                    "output_type": "stream", 
                    "name": "stdout", 
                    "text": "[ 20.7]\n[ 17.9]\n[ 18.8]\n[ 14.6]\n[ 15.8]\n"
                }
            ], 
            "metadata": {}
        }, 
        {
            "source": "# Standardize Time Series Data\n\nfrom Brownlee:\n\n - Standardizing a dataset involves rescaling the distribution of values so that the mean of observed values is 0 and the standard deviation is 1.\n\n - This can be thought of as subtracting the mean value or centering the data.\n\n - Like normalization, standardization can be useful, and even required in some machine learning algorithms when your time series data has input values with differing scales.\n\n - Standardization assumes that your observations fit a Gaussian distribution (bell curve) with a well behaved mean and standard deviation. You can still standardize your time series data if this expectation is not met, but you may not get reliable results.\n\n - This includes algorithms like Support Vector Machines, Linear and Logistic Regression, and other algorithms that assume or have improved performance with Gaussian data.\n\n - Standardization requires that you know or are able to accurately estimate the mean and standard deviation of observable values. You may be able to estimate these values from your training data.\n\n - A value is standardized as follows:\n - - y = (x - mean) / standard_deviation\n\n", 
            "cell_type": "markdown", 
            "metadata": {}
        }, 
        {
            "source": "For example, we can plot a histogram of the Minimum Daily Temperatures dataset as follows:", 
            "cell_type": "markdown", 
            "metadata": {}
        }, 
        {
            "source": "temps.hist()", 
            "cell_type": "code", 
            "execution_count": 120, 
            "outputs": [
                {
                    "output_type": "execute_result", 
                    "data": {
                        "text/plain": "array([[<matplotlib.axes._subplots.AxesSubplot object at 0x7fb4bd63c6d8>]], dtype=object)"
                    }, 
                    "execution_count": 120, 
                    "metadata": {}
                }, 
                {
                    "output_type": "display_data", 
                    "data": {
                        "image/png": "[encoded data removed]", 
                        "text/plain": "<matplotlib.figure.Figure at 0x7fb4bd636748>"
                    }, 
                    "metadata": {}
                }
            ], 
            "metadata": {}
        }, 
        {
            "source": "Running the code gives the following plot that shows a Gaussian distribution of the dataset, as assumed by standardization.", 
            "cell_type": "markdown", 
            "metadata": {}
        }, 
        {
            "source": "from sklearn.preprocessing import StandardScaler\nfrom math import sqrt", 
            "cell_type": "code", 
            "execution_count": 121, 
            "outputs": [], 
            "metadata": {}
        }, 
        {
            "source": "# Create a minimum and maximum processor object\nstd_scaler = StandardScaler()\n\nx = temps[['Temperature']].values.astype(float)\n\n# Create an object to transform the data to fit minmax processor\nx_std = std_scaler.fit_transform(x)  # reuse x from above\n\n# Run the normalizer on the dataframe\ndf_standardized = pd.DataFrame(x_std)\n", 
            "cell_type": "code", 
            "execution_count": 122, 
            "outputs": [], 
            "metadata": {}
        }, 
        {
            "source": "df_standardized.head()", 
            "cell_type": "code", 
            "execution_count": 123, 
            "outputs": [
                {
                    "output_type": "execute_result", 
                    "data": {
                        "text/plain": "          0\n0  2.338883\n1  1.651139\n2  1.872199\n3  0.840583\n4  1.135330", 
                        "text/html": "<div>\n<style scoped>\n    .dataframe tbody tr th:only-of-type {\n        vertical-align: middle;\n    }\n\n    .dataframe tbody tr th {\n        vertical-align: top;\n    }\n\n    .dataframe thead th {\n        text-align: right;\n    }\n</style>\n<table border=\"1\" class=\"dataframe\">\n  <thead>\n    <tr style=\"text-align: right;\">\n      <th></th>\n      <th>0</th>\n    </tr>\n  </thead>\n  <tbody>\n    <tr>\n      <th>0</th>\n      <td>2.338883</td>\n    </tr>\n    <tr>\n      <th>1</th>\n      <td>1.651139</td>\n    </tr>\n    <tr>\n      <th>2</th>\n      <td>1.872199</td>\n    </tr>\n    <tr>\n      <th>3</th>\n      <td>0.840583</td>\n    </tr>\n    <tr>\n      <th>4</th>\n      <td>1.135330</td>\n    </tr>\n  </tbody>\n</table>\n</div>"
                    }, 
                    "execution_count": 123, 
                    "metadata": {}
                }
            ], 
            "metadata": {}
        }, 
        {
            "source": "# inverse transform and print the first 5 rows\ninversed = std_scaler.inverse_transform(df_standardized)\nfor i in range(5):\n    print(inversed[i])\n", 
            "cell_type": "code", 
            "execution_count": 124, 
            "outputs": [
                {
                    "output_type": "stream", 
                    "name": "stdout", 
                    "text": "[ 20.7]\n[ 17.9]\n[ 18.8]\n[ 14.6]\n[ 15.8]\n"
                }
            ], 
            "metadata": {}
        }, 
        {
            "source": "", 
            "cell_type": "code", 
            "execution_count": null, 
            "outputs": [], 
            "metadata": {}
        }
    ], 
    "nbformat": 4, 
    "metadata": {
        "kernelspec": {
            "display_name": "Python 3.5 with Spark 2.1", 
            "name": "python3-spark21", 
            "language": "python"
        }, 
        "language_info": {
            "mimetype": "text/x-python", 
            "nbconvert_exporter": "python", 
            "version": "3.5.4", 
            "name": "python", 
            "pygments_lexer": "ipython3", 
            "file_extension": ".py", 
            "codemirror_mode": {
                "version": 3, 
                "name": "ipython"
            }
        }
    }
}