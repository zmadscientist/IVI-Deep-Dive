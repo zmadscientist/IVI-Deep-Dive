{
    "nbformat_minor": 1, 
    "cells": [
        {
            "source": "from sklearn.cluster import KMeans\nimport numpy as np\nX = np.array([[1, 2, 3, 4], [1, 4, 2, 1], [1, 0, 2, 3],\n    [4, 2, 1, 3], [4, 4, 2, 2], [4, 0, 0, 0]])\nkmeans = KMeans(n_clusters=3, random_state=0).fit(X)\nkmeans.labels_\nkmeans.predict([[0, 0, 0, 0], [4, 4, 1, 2]])\nkmeans.cluster_centers_\n", 
            "cell_type": "code", 
            "execution_count": 7, 
            "outputs": [
                {
                    "execution_count": 7, 
                    "output_type": "execute_result", 
                    "data": {
                        "text/plain": "array([[ 3.        ,  3.33333333,  1.66666667,  2.        ],\n       [ 1.        ,  1.        ,  2.5       ,  3.5       ],\n       [ 4.        ,  0.        ,  0.        ,  0.        ]])"
                    }, 
                    "metadata": {}
                }
            ], 
            "metadata": {}
        }, 
        {
            "source": "", 
            "cell_type": "code", 
            "execution_count": null, 
            "outputs": [], 
            "metadata": {
                "collapsed": true
            }
        }
    ], 
    "nbformat": 4, 
    "metadata": {
        "kernelspec": {
            "display_name": "Python 2 with Spark 2.0", 
            "name": "python2-spark20", 
            "language": "python"
        }, 
        "language_info": {
            "mimetype": "text/x-python", 
            "nbconvert_exporter": "python", 
            "version": "2.7.11", 
            "name": "python", 
            "file_extension": ".py", 
            "pygments_lexer": "ipython2", 
            "codemirror_mode": {
                "version": 2, 
                "name": "ipython"
            }
        }
    }
}