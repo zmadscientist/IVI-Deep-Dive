{
    "nbformat_minor": 1, 
    "cells": [
        {
            "source": "%%bash\npwd", 
            "cell_type": "code", 
            "execution_count": 1, 
            "outputs": [
                {
                    "output_type": "stream", 
                    "name": "stdout", 
                    "text": "/gpfs/fs01/user/s37a-6a8375ad9b78b5-6459f7095f24/notebook/work\n"
                }
            ], 
            "metadata": {}
        }, 
        {
            "source": "!pwd", 
            "cell_type": "code", 
            "execution_count": 2, 
            "outputs": [
                {
                    "output_type": "stream", 
                    "name": "stdout", 
                    "text": "/gpfs/fs01/user/s37a-6a8375ad9b78b5-6459f7095f24/notebook/work\r\n"
                }
            ], 
            "metadata": {}
        }, 
        {
            "source": "%%bash\nconda list | grep scikit", 
            "cell_type": "code", 
            "execution_count": 8, 
            "outputs": [
                {
                    "output_type": "stream", 
                    "name": "stdout", 
                    "text": "scikit-image              0.13.0           py35h3573165_1  \nscikit-learn              0.19.1           py35hbf1f462_0  \n"
                }
            ], 
            "metadata": {}
        }, 
        {
            "source": "", 
            "cell_type": "code", 
            "execution_count": null, 
            "outputs": [], 
            "metadata": {}
        }
    ], 
    "nbformat": 4, 
    "metadata": {
        "kernelspec": {
            "display_name": "Python 3.5 with Spark 2.1", 
            "name": "python3-spark21", 
            "language": "python"
        }, 
        "language_info": {
            "mimetype": "text/x-python", 
            "nbconvert_exporter": "python", 
            "version": "3.5.4", 
            "name": "python", 
            "pygments_lexer": "ipython3", 
            "file_extension": ".py", 
            "codemirror_mode": {
                "version": 3, 
                "name": "ipython"
            }
        }
    }
}