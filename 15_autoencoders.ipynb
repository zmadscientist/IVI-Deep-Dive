{
    "nbformat_minor": 1, 
    "cells": [
        {
            "source": "**Chapter 15 \u2013 Autoencoders**", 
            "cell_type": "markdown", 
            "metadata": {}
        }, 
        {
            "source": "_This notebook contains all the sample code and solutions to the exercises in chapter 15._", 
            "cell_type": "markdown", 
            "metadata": {}
        }, 
        {
            "source": "# Setup", 
            "cell_type": "markdown", 
            "metadata": {}
        }, 
        {
            "source": "First, let's make sure this notebook works well in both python 2 and 3, import a few common modules, ensure MatplotLib plots figures inline and prepare a function to save the figures:", 
            "cell_type": "markdown", 
            "metadata": {}
        }, 
        {
            "source": "%%bash\npwd\nls tmp/", 
            "cell_type": "code", 
            "execution_count": 8, 
            "outputs": [
                {
                    "output_type": "stream", 
                    "name": "stdout", 
                    "text": "/gpfs/fs01/user/s37a-6a8375ad9b78b5-6459f7095f24/notebook/work\ndata\n"
                }
            ], 
            "metadata": {}
        }, 
        {
            "source": "# To support both python 2 and python 3\nfrom __future__ import division, print_function, unicode_literals\n\n# Common imports\nimport numpy as np\nimport os\nimport sys\n\n# to make this notebook's output stable across runs\ndef reset_graph(seed=42):\n    tf.reset_default_graph()\n    tf.set_random_seed(seed)\n    np.random.seed(seed)\n\n# To plot pretty figures\n%matplotlib inline\nimport matplotlib\nimport matplotlib.pyplot as plt\nplt.rcParams['axes.labelsize'] = 14\nplt.rcParams['xtick.labelsize'] = 12\nplt.rcParams['ytick.labelsize'] = 12\n\n# Where to save the figures\nPROJECT_ROOT_DIR = \".\"\nCHAPTER_ID = \"autoencoders\"\n\ndef save_fig(fig_id, tight_layout=True):\n    path = os.path.join(PROJECT_ROOT_DIR, \"images\", CHAPTER_ID, fig_id + \".png\")\n    print(\"Saving figure\", fig_id)\n    if tight_layout:\n        plt.tight_layout()\n    plt.savefig(path, format='png', dpi=300)", 
            "cell_type": "code", 
            "execution_count": 1, 
            "outputs": [], 
            "metadata": {}
        }, 
        {
            "source": "A couple utility functions to plot grayscale 28x28 image:", 
            "cell_type": "markdown", 
            "metadata": {}
        }, 
        {
            "source": "def plot_image(image, shape=[28, 28]):\n    plt.imshow(image.reshape(shape), cmap=\"Greys\", interpolation=\"nearest\")\n    plt.axis(\"off\")", 
            "cell_type": "code", 
            "execution_count": 2, 
            "outputs": [], 
            "metadata": {}
        }, 
        {
            "source": "def plot_multiple_images(images, n_rows, n_cols, pad=2):\n    images = images - images.min()  # make the minimum == 0, so the padding looks white\n    w,h = images.shape[1:]\n    image = np.zeros(((w+pad)*n_rows+pad, (h+pad)*n_cols+pad))\n    for y in range(n_rows):\n        for x in range(n_cols):\n            image[(y*(h+pad)+pad):(y*(h+pad)+pad+h),(x*(w+pad)+pad):(x*(w+pad)+pad+w)] = images[y*n_cols+x]\n    plt.imshow(image, cmap=\"Greys\", interpolation=\"nearest\")\n    plt.axis(\"off\")", 
            "cell_type": "code", 
            "execution_count": 3, 
            "outputs": [], 
            "metadata": {}
        }, 
        {
            "source": "# PCA with a linear Autoencoder", 
            "cell_type": "markdown", 
            "metadata": {}
        }, 
        {
            "source": "Build 3D dataset:", 
            "cell_type": "markdown", 
            "metadata": {}
        }, 
        {
            "source": "import numpy.random as rnd\n\nrnd.seed(4)\nm = 200\nw1, w2 = 0.1, 0.3\nnoise = 0.1\n\nangles = rnd.rand(m) * 3 * np.pi / 2 - 0.5\ndata = np.empty((m, 3))\ndata[:, 0] = np.cos(angles) + np.sin(angles)/2 + noise * rnd.randn(m) / 2\ndata[:, 1] = np.sin(angles) * 0.7 + noise * rnd.randn(m) / 2\ndata[:, 2] = data[:, 0] * w1 + data[:, 1] * w2 + noise * rnd.randn(m)", 
            "cell_type": "code", 
            "execution_count": 5, 
            "outputs": [], 
            "metadata": {}
        }, 
        {
            "source": "Normalize the data:", 
            "cell_type": "markdown", 
            "metadata": {}
        }, 
        {
            "source": "from sklearn.preprocessing import StandardScaler\nscaler = StandardScaler()\nX_train = scaler.fit_transform(data[:100])\nX_test = scaler.transform(data[100:])", 
            "cell_type": "code", 
            "execution_count": 6, 
            "outputs": [], 
            "metadata": {}
        }, 
        {
            "source": "Now let's build the Autoencoder...", 
            "cell_type": "markdown", 
            "metadata": {}
        }, 
        {
            "source": "Note: instead of using the `fully_connected()` function from the `tensorflow.contrib.layers` module (as in the book), we now use the `dense()` function from the `tf.layers` module, which did not exist when this chapter was written. This is preferable because anything in contrib may change or be deleted without notice, while `tf.layers` is part of the official API. As you will see, the code is mostly the same.\n\nThe main differences relevant to this chapter are:\n* the `scope` parameter was renamed to `name`, and the `_fn` suffix was removed in all the parameters that had it (for example the `activation_fn` parameter was renamed to `activation`).\n* the `weights` parameter was renamed to `kernel` and the weights variable is now named `\"kernel\"` rather than `\"weights\"`,\n* the bias variable is now named `\"bias\"` rather than `\"biases\"`,\n* the default activation is `None` instead of `tf.nn.relu`", 
            "cell_type": "markdown", 
            "metadata": {}
        }, 
        {
            "source": "import tensorflow as tf\n\nreset_graph()\n\nn_inputs = 3\nn_hidden = 2  # codings\nn_outputs = n_inputs\n\nlearning_rate = 0.01\n\nX = tf.placeholder(tf.float32, shape=[None, n_inputs])\nhidden = tf.layers.dense(X, n_hidden)\noutputs = tf.layers.dense(hidden, n_outputs)\n\nreconstruction_loss = tf.reduce_mean(tf.square(outputs - X))\n\noptimizer = tf.train.AdamOptimizer(learning_rate)\ntraining_op = optimizer.minimize(reconstruction_loss)\n\ninit = tf.global_variables_initializer()", 
            "cell_type": "code", 
            "execution_count": 7, 
            "outputs": [], 
            "metadata": {}
        }, 
        {
            "source": "n_iterations = 1000\ncodings = hidden\n\nwith tf.Session() as sess:\n    init.run()\n    for iteration in range(n_iterations):\n        training_op.run(feed_dict={X: X_train})\n    codings_val = codings.eval(feed_dict={X: X_test})", 
            "cell_type": "code", 
            "execution_count": 8, 
            "outputs": [], 
            "metadata": {}
        }, 
        {
            "source": "fig = plt.figure(figsize=(4,3))\nplt.plot(codings_val[:,0], codings_val[:, 1], \"b.\")\nplt.xlabel(\"$z_1$\", fontsize=18)\nplt.ylabel(\"$z_2$\", fontsize=18, rotation=0)\n#save_fig(\"linear_autoencoder_pca_plot\")\nplt.show()", 
            "cell_type": "code", 
            "execution_count": 9, 
            "outputs": [
                {
                    "output_type": "display_data", 
                    "data": {
                        "image/png": "[encoded data removed]", 
                        "text/plain": "<matplotlib.figure.Figure at 0x7f6958585b10>"
                    }, 
                    "metadata": {}
                }
            ], 
            "metadata": {}
        }, 
        {
            "source": "# Stacked Autoencoders", 
            "cell_type": "markdown", 
            "metadata": {}
        }, 
        {
            "source": "Let's use MNIST:", 
            "cell_type": "markdown", 
            "metadata": {}
        }, 
        {
            "source": "from tensorflow.examples.tutorials.mnist import input_data\nmnist = input_data.read_data_sets(\"tmp/data/\")", 
            "cell_type": "code", 
            "execution_count": 10, 
            "outputs": [
                {
                    "output_type": "stream", 
                    "name": "stdout", 
                    "text": "Extracting tmp/data/train-images-idx3-ubyte.gz\nExtracting tmp/data/train-labels-idx1-ubyte.gz\nExtracting tmp/data/t10k-images-idx3-ubyte.gz\nExtracting tmp/data/t10k-labels-idx1-ubyte.gz\n"
                }
            ], 
            "metadata": {}
        }, 
        {
            "source": "## Train all layers at once", 
            "cell_type": "markdown", 
            "metadata": {}
        }, 
        {
            "source": "Let's build a stacked Autoencoder with 3 hidden layers and 1 output layer (ie. 2 stacked Autoencoders). We will use ELU activation, He initialization and L2 regularization.", 
            "cell_type": "markdown", 
            "metadata": {}
        }, 
        {
            "source": "Note: since the `tf.layers.dense()` function is incompatible with `tf.contrib.layers.arg_scope()` (which is used in the book), we now use python's `functools.partial()` function instead. It makes it easy to create a `my_dense_layer()` function that just calls `tf.layers.dense()` with the desired parameters automatically set (unless they are overridden when calling `my_dense_layer()`).", 
            "cell_type": "markdown", 
            "metadata": {}
        }, 
        {
            "source": "reset_graph()\n\nfrom functools import partial\n\nn_inputs = 28 * 28\nn_hidden1 = 300\nn_hidden2 = 150  # codings\nn_hidden3 = n_hidden1\nn_outputs = n_inputs\n\nlearning_rate = 0.01\nl2_reg = 0.0001\n\nX = tf.placeholder(tf.float32, shape=[None, n_inputs])\n\nhe_init = tf.contrib.layers.variance_scaling_initializer() # He initialization\n#Equivalent to:\n#he_init = lambda shape, dtype=tf.float32: tf.truncated_normal(shape, 0., stddev=np.sqrt(2/shape[0]))\nl2_regularizer = tf.contrib.layers.l2_regularizer(l2_reg)\nmy_dense_layer = partial(tf.layers.dense,\n                         activation=tf.nn.elu,\n                         kernel_initializer=he_init,\n                         kernel_regularizer=l2_regularizer)\n\nhidden1 = my_dense_layer(X, n_hidden1)\nhidden2 = my_dense_layer(hidden1, n_hidden2)\nhidden3 = my_dense_layer(hidden2, n_hidden3)\noutputs = my_dense_layer(hidden3, n_outputs, activation=None)\n\nreconstruction_loss = tf.reduce_mean(tf.square(outputs - X))\n\nreg_losses = tf.get_collection(tf.GraphKeys.REGULARIZATION_LOSSES)\nloss = tf.add_n([reconstruction_loss] + reg_losses)\n\noptimizer = tf.train.AdamOptimizer(learning_rate)\ntraining_op = optimizer.minimize(loss)\n\ninit = tf.global_variables_initializer()\nsaver = tf.train.Saver() # not shown in the book", 
            "cell_type": "code", 
            "execution_count": 10, 
            "outputs": [], 
            "metadata": {}
        }, 
        {
            "source": "Now let's train it! Note that we don't feed target values (`y_batch` is not used). This is unsupervised training.", 
            "cell_type": "markdown", 
            "metadata": {}
        }, 
        {
            "source": "n_epochs = 5\nbatch_size = 150\n\nwith tf.Session() as sess:\n    init.run()\n    for epoch in range(n_epochs):\n        n_batches = mnist.train.num_examples // batch_size\n        for iteration in range(n_batches):\n            print(\"\\r{}%\".format(100 * iteration // n_batches), end=\"\") # not shown in the book\n            sys.stdout.flush()                                          # not shown\n            X_batch, y_batch = mnist.train.next_batch(batch_size)\n            sess.run(training_op, feed_dict={X: X_batch})\n        loss_train = reconstruction_loss.eval(feed_dict={X: X_batch})   # not shown\n        print(\"\\r{}\".format(epoch), \"Train MSE:\", loss_train)           # not shown\n        saver.save(sess, \"./my_model_all_layers.ckpt\")                  # not shown", 
            "cell_type": "code", 
            "execution_count": 11, 
            "outputs": [
                {
                    "output_type": "stream", 
                    "name": "stdout", 
                    "text": "0 Train MSE: 0.0203432\n1 Train MSE: 0.011473\n2 Train MSE: 0.010229\n3 Train MSE: 0.00990439\n4 Train MSE: 0.0103764\n"
                }
            ], 
            "metadata": {}
        }, 
        {
            "source": "This function loads the model, evaluates it on the test set (it measures the reconstruction error), then it displays the original image and its reconstruction:", 
            "cell_type": "markdown", 
            "metadata": {}
        }, 
        {
            "source": "def show_reconstructed_digits(X, outputs, model_path = None, n_test_digits = 2):\n    with tf.Session() as sess:\n        if model_path:\n            saver.restore(sess, model_path)\n        X_test = mnist.test.images[:n_test_digits]\n        outputs_val = outputs.eval(feed_dict={X: X_test})\n\n    fig = plt.figure(figsize=(8, 3 * n_test_digits))\n    for digit_index in range(n_test_digits):\n        plt.subplot(n_test_digits, 2, digit_index * 2 + 1)\n        plot_image(X_test[digit_index])\n        plt.subplot(n_test_digits, 2, digit_index * 2 + 2)\n        plot_image(outputs_val[digit_index])", 
            "cell_type": "code", 
            "execution_count": 12, 
            "outputs": [], 
            "metadata": {}
        }, 
        {
            "source": "show_reconstructed_digits(X, outputs, \"./my_model_all_layers.ckpt\")\n#save_fig(\"reconstruction_plot\")", 
            "cell_type": "code", 
            "execution_count": 13, 
            "outputs": [
                {
                    "output_type": "stream", 
                    "name": "stdout", 
                    "text": "INFO:tensorflow:Restoring parameters from ./my_model_all_layers.ckpt\n"
                }, 
                {
                    "output_type": "display_data", 
                    "data": {
                        "image/png": "[encoded data removed]", 
                        "text/plain": "<matplotlib.figure.Figure at 0x7fe188326ed0>"
                    }, 
                    "metadata": {}
                }
            ], 
            "metadata": {}
        }, 
        {
            "source": "## Tying weights", 
            "cell_type": "markdown", 
            "metadata": {}
        }, 
        {
            "source": "It is common to tie the weights of the encoder and the decoder (`weights_decoder = tf.transpose(weights_encoder)`). Unfortunately this makes it impossible (or very tricky) to use the `tf.layers.dense()` function, so we need to build the Autoencoder manually:", 
            "cell_type": "markdown", 
            "metadata": {}
        }, 
        {
            "source": "reset_graph()\n\nn_inputs = 28 * 28\nn_hidden1 = 300\nn_hidden2 = 150  # codings\nn_hidden3 = n_hidden1\nn_outputs = n_inputs\n\nlearning_rate = 0.01\nl2_reg = 0.0005", 
            "cell_type": "code", 
            "execution_count": 14, 
            "outputs": [], 
            "metadata": {}
        }, 
        {
            "source": "activation = tf.nn.elu\nregularizer = tf.contrib.layers.l2_regularizer(l2_reg)\ninitializer = tf.contrib.layers.variance_scaling_initializer()\n\nX = tf.placeholder(tf.float32, shape=[None, n_inputs])\n\nweights1_init = initializer([n_inputs, n_hidden1])\nweights2_init = initializer([n_hidden1, n_hidden2])\n\nweights1 = tf.Variable(weights1_init, dtype=tf.float32, name=\"weights1\")\nweights2 = tf.Variable(weights2_init, dtype=tf.float32, name=\"weights2\")\nweights3 = tf.transpose(weights2, name=\"weights3\")  # tied weights\nweights4 = tf.transpose(weights1, name=\"weights4\")  # tied weights\n\nbiases1 = tf.Variable(tf.zeros(n_hidden1), name=\"biases1\")\nbiases2 = tf.Variable(tf.zeros(n_hidden2), name=\"biases2\")\nbiases3 = tf.Variable(tf.zeros(n_hidden3), name=\"biases3\")\nbiases4 = tf.Variable(tf.zeros(n_outputs), name=\"biases4\")\n\nhidden1 = activation(tf.matmul(X, weights1) + biases1)\nhidden2 = activation(tf.matmul(hidden1, weights2) + biases2)\nhidden3 = activation(tf.matmul(hidden2, weights3) + biases3)\noutputs = tf.matmul(hidden3, weights4) + biases4\n\nreconstruction_loss = tf.reduce_mean(tf.square(outputs - X))\nreg_loss = regularizer(weights1) + regularizer(weights2)\nloss = reconstruction_loss + reg_loss\n\noptimizer = tf.train.AdamOptimizer(learning_rate)\ntraining_op = optimizer.minimize(loss)\n\ninit = tf.global_variables_initializer()", 
            "cell_type": "code", 
            "execution_count": 15, 
            "outputs": [], 
            "metadata": {}
        }, 
        {
            "source": "saver = tf.train.Saver()", 
            "cell_type": "code", 
            "execution_count": 16, 
            "outputs": [], 
            "metadata": {}
        }, 
        {
            "source": "n_epochs = 5\nbatch_size = 150\n\nwith tf.Session() as sess:\n    init.run()\n    for epoch in range(n_epochs):\n        n_batches = mnist.train.num_examples // batch_size\n        for iteration in range(n_batches):\n            print(\"\\r{}%\".format(100 * iteration // n_batches), end=\"\")\n            sys.stdout.flush()\n            X_batch, y_batch = mnist.train.next_batch(batch_size)\n            sess.run(training_op, feed_dict={X: X_batch})\n        loss_train = reconstruction_loss.eval(feed_dict={X: X_batch})\n        print(\"\\r{}\".format(epoch), \"Train MSE:\", loss_train)\n        saver.save(sess, \"./my_model_tying_weights.ckpt\")", 
            "cell_type": "code", 
            "execution_count": 17, 
            "outputs": [
                {
                    "output_type": "stream", 
                    "name": "stdout", 
                    "text": "0 Train MSE: 0.0150667\n1 Train MSE: 0.0164884\n2 Train MSE: 0.0173757\n3 Train MSE: 0.0168781\n4 Train MSE: 0.0155875\n"
                }
            ], 
            "metadata": {}
        }, 
        {
            "source": "show_reconstructed_digits(X, outputs, \"./my_model_tying_weights.ckpt\")", 
            "cell_type": "code", 
            "execution_count": 18, 
            "outputs": [
                {
                    "output_type": "stream", 
                    "name": "stdout", 
                    "text": "INFO:tensorflow:Restoring parameters from ./my_model_tying_weights.ckpt\n"
                }, 
                {
                    "output_type": "display_data", 
                    "data": {
                        "image/png": "[encoded data removed]", 
                        "text/plain": "<matplotlib.figure.Figure at 0x7fe3046f96d0>"
                    }, 
                    "metadata": {}
                }
            ], 
            "metadata": {
                "scrolled": true
            }
        }, 
        {
            "source": "## Training one Autoencoder at a time in multiple graphs", 
            "cell_type": "markdown", 
            "metadata": {}
        }, 
        {
            "source": "There are many ways to train one Autoencoder at a time. The first approach is to train each Autoencoder using a different graph, then we create the Stacked Autoencoder by simply initializing it with the weights and biases copied from these Autoencoders.", 
            "cell_type": "markdown", 
            "metadata": {}
        }, 
        {
            "source": "Let's create a function that will train one autoencoder and return the transformed training set (i.e., the output of the hidden layer) and the model parameters.", 
            "cell_type": "markdown", 
            "metadata": {}
        }, 
        {
            "source": "reset_graph()\n\nfrom functools import partial\n\ndef train_autoencoder(X_train, n_neurons, n_epochs, batch_size,\n                      learning_rate = 0.01, l2_reg = 0.0005, seed=42,\n                      hidden_activation=tf.nn.elu,\n                      output_activation=tf.nn.elu):\n    graph = tf.Graph()\n    with graph.as_default():\n        tf.set_random_seed(seed)\n\n        n_inputs = X_train.shape[1]\n\n        X = tf.placeholder(tf.float32, shape=[None, n_inputs])\n        \n        my_dense_layer = partial(\n            tf.layers.dense,\n            kernel_initializer=tf.contrib.layers.variance_scaling_initializer(),\n            kernel_regularizer=tf.contrib.layers.l2_regularizer(l2_reg))\n\n        hidden = my_dense_layer(X, n_neurons, activation=hidden_activation, name=\"hidden\")\n        outputs = my_dense_layer(hidden, n_inputs, activation=output_activation, name=\"outputs\")\n\n        reconstruction_loss = tf.reduce_mean(tf.square(outputs - X))\n\n        reg_losses = tf.get_collection(tf.GraphKeys.REGULARIZATION_LOSSES)\n        loss = tf.add_n([reconstruction_loss] + reg_losses)\n\n        optimizer = tf.train.AdamOptimizer(learning_rate)\n        training_op = optimizer.minimize(loss)\n\n        init = tf.global_variables_initializer()\n\n    with tf.Session(graph=graph) as sess:\n        init.run()\n        for epoch in range(n_epochs):\n            n_batches = len(X_train) // batch_size\n            for iteration in range(n_batches):\n                print(\"\\r{}%\".format(100 * iteration // n_batches), end=\"\")\n                sys.stdout.flush()\n                indices = rnd.permutation(len(X_train))[:batch_size]\n                X_batch = X_train[indices]\n                sess.run(training_op, feed_dict={X: X_batch})\n            loss_train = reconstruction_loss.eval(feed_dict={X: X_batch})\n            print(\"\\r{}\".format(epoch), \"Train MSE:\", loss_train)\n        params = dict([(var.name, var.eval()) for var in tf.get_collection(tf.GraphKeys.TRAINABLE_VARIABLES)])\n        hidden_val = hidden.eval(feed_dict={X: X_train})\n        return hidden_val, params[\"hidden/kernel:0\"], params[\"hidden/bias:0\"], params[\"outputs/kernel:0\"], params[\"outputs/bias:0\"]", 
            "cell_type": "code", 
            "execution_count": 19, 
            "outputs": [], 
            "metadata": {}
        }, 
        {
            "source": "Now let's train two Autoencoders. The first one is trained on the training data, and the second is trained on the previous Autoencoder's hidden layer output:", 
            "cell_type": "markdown", 
            "metadata": {}
        }, 
        {
            "source": "hidden_output, W1, b1, W4, b4 = train_autoencoder(mnist.train.images, n_neurons=300, n_epochs=4, batch_size=150,\n                                                  output_activation=None)\n_, W2, b2, W3, b3 = train_autoencoder(hidden_output, n_neurons=150, n_epochs=4, batch_size=150)", 
            "cell_type": "code", 
            "execution_count": 20, 
            "outputs": [
                {
                    "output_type": "stream", 
                    "name": "stdout", 
                    "text": "0 Train MSE: 0.0185175\n1 Train MSE: 0.0186825\n2 Train MSE: 0.0184675\n3 Train MSE: 0.0192315\n0 Train MSE: 0.00423609\n19% Train MSE: 0.00483262\n2 Train MSE: 0.00466869\n3 Train MSE: 0.00440386\n"
                }
            ], 
            "metadata": {}
        }, 
        {
            "source": "Finally, we can create a Stacked Autoencoder by simply reusing the weights and biases from the Autoencoders we just trained:", 
            "cell_type": "markdown", 
            "metadata": {}
        }, 
        {
            "source": "reset_graph()\n\nn_inputs = 28*28\n\nX = tf.placeholder(tf.float32, shape=[None, n_inputs])\nhidden1 = tf.nn.elu(tf.matmul(X, W1) + b1)\nhidden2 = tf.nn.elu(tf.matmul(hidden1, W2) + b2)\nhidden3 = tf.nn.elu(tf.matmul(hidden2, W3) + b3)\noutputs = tf.matmul(hidden3, W4) + b4", 
            "cell_type": "code", 
            "execution_count": 21, 
            "outputs": [], 
            "metadata": {}
        }, 
        {
            "source": "show_reconstructed_digits(X, outputs)", 
            "cell_type": "code", 
            "execution_count": 22, 
            "outputs": [
                {
                    "output_type": "display_data", 
                    "data": {
                        "image/png": "[encoded data removed]", 
                        "text/plain": "<matplotlib.figure.Figure at 0x7fe0f46b5790>"
                    }, 
                    "metadata": {}
                }
            ], 
            "metadata": {}
        }, 
        {
            "source": "## Training one Autoencoder at a time in a single graph", 
            "cell_type": "markdown", 
            "metadata": {}
        }, 
        {
            "source": "Another approach is to use a single graph. To do this, we create the graph for the full Stacked Autoencoder, but then we also add operations to train each Autoencoder independently: phase 1 trains the bottom and top layer (ie. the first Autoencoder) and phase 2 trains the two middle layers (ie. the second Autoencoder).", 
            "cell_type": "markdown", 
            "metadata": {}
        }, 
        {
            "source": "reset_graph()\n\nn_inputs = 28 * 28\nn_hidden1 = 300\nn_hidden2 = 150  # codings\nn_hidden3 = n_hidden1\nn_outputs = n_inputs\n\nlearning_rate = 0.01\nl2_reg = 0.0001\n\nactivation = tf.nn.elu\nregularizer = tf.contrib.layers.l2_regularizer(l2_reg)\ninitializer = tf.contrib.layers.variance_scaling_initializer()\n\nX = tf.placeholder(tf.float32, shape=[None, n_inputs])\n\nweights1_init = initializer([n_inputs, n_hidden1])\nweights2_init = initializer([n_hidden1, n_hidden2])\nweights3_init = initializer([n_hidden2, n_hidden3])\nweights4_init = initializer([n_hidden3, n_outputs])\n\nweights1 = tf.Variable(weights1_init, dtype=tf.float32, name=\"weights1\")\nweights2 = tf.Variable(weights2_init, dtype=tf.float32, name=\"weights2\")\nweights3 = tf.Variable(weights3_init, dtype=tf.float32, name=\"weights3\")\nweights4 = tf.Variable(weights4_init, dtype=tf.float32, name=\"weights4\")\n\nbiases1 = tf.Variable(tf.zeros(n_hidden1), name=\"biases1\")\nbiases2 = tf.Variable(tf.zeros(n_hidden2), name=\"biases2\")\nbiases3 = tf.Variable(tf.zeros(n_hidden3), name=\"biases3\")\nbiases4 = tf.Variable(tf.zeros(n_outputs), name=\"biases4\")\n\nhidden1 = activation(tf.matmul(X, weights1) + biases1)\nhidden2 = activation(tf.matmul(hidden1, weights2) + biases2)\nhidden3 = activation(tf.matmul(hidden2, weights3) + biases3)\noutputs = tf.matmul(hidden3, weights4) + biases4\n\nreconstruction_loss = tf.reduce_mean(tf.square(outputs - X))", 
            "cell_type": "code", 
            "execution_count": 23, 
            "outputs": [], 
            "metadata": {}
        }, 
        {
            "source": "optimizer = tf.train.AdamOptimizer(learning_rate)\n\nwith tf.name_scope(\"phase1\"):\n    phase1_outputs = tf.matmul(hidden1, weights4) + biases4  # bypass hidden2 and hidden3\n    phase1_reconstruction_loss = tf.reduce_mean(tf.square(phase1_outputs - X))\n    phase1_reg_loss = regularizer(weights1) + regularizer(weights4)\n    phase1_loss = phase1_reconstruction_loss + phase1_reg_loss\n    phase1_training_op = optimizer.minimize(phase1_loss)\n\nwith tf.name_scope(\"phase2\"):\n    phase2_reconstruction_loss = tf.reduce_mean(tf.square(hidden3 - hidden1))\n    phase2_reg_loss = regularizer(weights2) + regularizer(weights3)\n    phase2_loss = phase2_reconstruction_loss + phase2_reg_loss\n    train_vars = [weights2, biases2, weights3, biases3]\n    phase2_training_op = optimizer.minimize(phase2_loss, var_list=train_vars) # freeze hidden1", 
            "cell_type": "code", 
            "execution_count": 24, 
            "outputs": [], 
            "metadata": {}
        }, 
        {
            "source": "init = tf.global_variables_initializer()\nsaver = tf.train.Saver()", 
            "cell_type": "code", 
            "execution_count": 25, 
            "outputs": [], 
            "metadata": {}
        }, 
        {
            "source": "training_ops = [phase1_training_op, phase2_training_op]\nreconstruction_losses = [phase1_reconstruction_loss, phase2_reconstruction_loss]\nn_epochs = [4, 4]\nbatch_sizes = [150, 150]\n\nwith tf.Session() as sess:\n    init.run()\n    for phase in range(2):\n        print(\"Training phase #{}\".format(phase + 1))\n        for epoch in range(n_epochs[phase]):\n            n_batches = mnist.train.num_examples // batch_sizes[phase]\n            for iteration in range(n_batches):\n                print(\"\\r{}%\".format(100 * iteration // n_batches), end=\"\")\n                sys.stdout.flush()\n                X_batch, y_batch = mnist.train.next_batch(batch_sizes[phase])\n                sess.run(training_ops[phase], feed_dict={X: X_batch})\n            loss_train = reconstruction_losses[phase].eval(feed_dict={X: X_batch})\n            print(\"\\r{}\".format(epoch), \"Train MSE:\", loss_train)\n            saver.save(sess, \"./my_model_one_at_a_time.ckpt\")\n    loss_test = reconstruction_loss.eval(feed_dict={X: mnist.test.images})\n    print(\"Test MSE:\", loss_test)", 
            "cell_type": "code", 
            "execution_count": 26, 
            "outputs": [
                {
                    "output_type": "stream", 
                    "name": "stdout", 
                    "text": "Training phase #1\n0 Train MSE: 0.0074068\n1 Train MSE: 0.00782866\n2 Train MSE: 0.00772802\n3 Train MSE: 0.00740893\nTraining phase #2\n0 Train MSE: 0.279671\n1 Train MSE: 0.00553525\n2 Train MSE: 0.00291541\n3 Train MSE: 0.00238866\nTest MSE: 0.00976381\n"
                }
            ], 
            "metadata": {}
        }, 
        {
            "source": "## Cache the frozen layer outputs", 
            "cell_type": "markdown", 
            "metadata": {}
        }, 
        {
            "source": "training_ops = [phase1_training_op, phase2_training_op]\nreconstruction_losses = [phase1_reconstruction_loss, phase2_reconstruction_loss]\nn_epochs = [4, 4]\nbatch_sizes = [150, 150]\n\nwith tf.Session() as sess:\n    init.run()\n    for phase in range(2):\n        print(\"Training phase #{}\".format(phase + 1))\n        if phase == 1:\n            hidden1_cache = hidden1.eval(feed_dict={X: mnist.train.images})\n        for epoch in range(n_epochs[phase]):\n            n_batches = mnist.train.num_examples // batch_sizes[phase]\n            for iteration in range(n_batches):\n                print(\"\\r{}%\".format(100 * iteration // n_batches), end=\"\")\n                sys.stdout.flush()\n                if phase == 1:\n                    indices = rnd.permutation(mnist.train.num_examples)\n                    hidden1_batch = hidden1_cache[indices[:batch_sizes[phase]]]\n                    feed_dict = {hidden1: hidden1_batch}\n                    sess.run(training_ops[phase], feed_dict=feed_dict)\n                else:\n                    X_batch, y_batch = mnist.train.next_batch(batch_sizes[phase])\n                    feed_dict = {X: X_batch}\n                    sess.run(training_ops[phase], feed_dict=feed_dict)\n            loss_train = reconstruction_losses[phase].eval(feed_dict=feed_dict)\n            print(\"\\r{}\".format(epoch), \"Train MSE:\", loss_train)\n            saver.save(sess, \"./my_model_cache_frozen.ckpt\")\n    loss_test = reconstruction_loss.eval(feed_dict={X: mnist.test.images})\n    print(\"Test MSE:\", loss_test)", 
            "cell_type": "code", 
            "execution_count": 27, 
            "outputs": [
                {
                    "output_type": "stream", 
                    "name": "stdout", 
                    "text": "Training phase #1\n0 Train MSE: 0.00753817\n1 Train MSE: 0.00775457\n2 Train MSE: 0.00734359\n3 Train MSE: 0.00783768\nTraining phase #2\n0 Train MSE: 0.229686\n1 Train MSE: 0.00474355\n2 Train MSE: 0.00255261\n3 Train MSE: 0.00206523\nTest MSE: 0.00978721\n"
                }
            ], 
            "metadata": {
                "scrolled": true
            }
        }, 
        {
            "source": "## Visualizing the Reconstructions", 
            "cell_type": "markdown", 
            "metadata": {}
        }, 
        {
            "source": "n_test_digits = 2\nX_test = mnist.test.images[:n_test_digits]\n\nwith tf.Session() as sess:\n    saver.restore(sess, \"./my_model_one_at_a_time.ckpt\") # not shown in the book\n    outputs_val = outputs.eval(feed_dict={X: X_test})\n\ndef plot_image(image, shape=[28, 28]):\n    plt.imshow(image.reshape(shape), cmap=\"Greys\", interpolation=\"nearest\")\n    plt.axis(\"off\")\n\nfor digit_index in range(n_test_digits):\n    plt.subplot(n_test_digits, 2, digit_index * 2 + 1)\n    plot_image(X_test[digit_index])\n    plt.subplot(n_test_digits, 2, digit_index * 2 + 2)\n    plot_image(outputs_val[digit_index])", 
            "cell_type": "code", 
            "execution_count": 28, 
            "outputs": [
                {
                    "output_type": "stream", 
                    "name": "stdout", 
                    "text": "INFO:tensorflow:Restoring parameters from ./my_model_one_at_a_time.ckpt\n"
                }, 
                {
                    "output_type": "display_data", 
                    "data": {
                        "image/png": "[encoded data removed]", 
                        "text/plain": "<matplotlib.figure.Figure at 0x7fe188326ed0>"
                    }, 
                    "metadata": {}
                }
            ], 
            "metadata": {}
        }, 
        {
            "source": "## Visualizing the extracted features", 
            "cell_type": "markdown", 
            "metadata": {}
        }, 
        {
            "source": "with tf.Session() as sess:\n    saver.restore(sess, \"./my_model_one_at_a_time.ckpt\") # not shown in the book\n    weights1_val = weights1.eval()\n\nfor i in range(5):\n    plt.subplot(1, 5, i + 1)\n    plot_image(weights1_val.T[i])\n\n#save_fig(\"extracted_features_plot\") # not shown\nplt.show()                          # not shown", 
            "cell_type": "code", 
            "execution_count": 29, 
            "outputs": [
                {
                    "output_type": "stream", 
                    "name": "stdout", 
                    "text": "INFO:tensorflow:Restoring parameters from ./my_model_one_at_a_time.ckpt\n"
                }, 
                {
                    "output_type": "display_data", 
                    "data": {
                        "image/png": "[encoded data removed]", 
                        "text/plain": "<matplotlib.figure.Figure at 0x7fe2ff8e5850>"
                    }, 
                    "metadata": {}
                }
            ], 
            "metadata": {}
        }, 
        {
            "source": "# Unsupervised pretraining", 
            "cell_type": "markdown", 
            "metadata": {}
        }, 
        {
            "source": "Let's create a small neural network for MNIST classification:", 
            "cell_type": "markdown", 
            "metadata": {}
        }, 
        {
            "source": "reset_graph()\n\nn_inputs = 28 * 28\nn_hidden1 = 300\nn_hidden2 = 150\nn_outputs = 10\n\nlearning_rate = 0.01\nl2_reg = 0.0005\n\nactivation = tf.nn.elu\nregularizer = tf.contrib.layers.l2_regularizer(l2_reg)\ninitializer = tf.contrib.layers.variance_scaling_initializer()\n\nX = tf.placeholder(tf.float32, shape=[None, n_inputs])\ny = tf.placeholder(tf.int32, shape=[None])\n\nweights1_init = initializer([n_inputs, n_hidden1])\nweights2_init = initializer([n_hidden1, n_hidden2])\nweights3_init = initializer([n_hidden2, n_outputs])\n\nweights1 = tf.Variable(weights1_init, dtype=tf.float32, name=\"weights1\")\nweights2 = tf.Variable(weights2_init, dtype=tf.float32, name=\"weights2\")\nweights3 = tf.Variable(weights3_init, dtype=tf.float32, name=\"weights3\")\n\nbiases1 = tf.Variable(tf.zeros(n_hidden1), name=\"biases1\")\nbiases2 = tf.Variable(tf.zeros(n_hidden2), name=\"biases2\")\nbiases3 = tf.Variable(tf.zeros(n_outputs), name=\"biases3\")\n\nhidden1 = activation(tf.matmul(X, weights1) + biases1)\nhidden2 = activation(tf.matmul(hidden1, weights2) + biases2)\nlogits = tf.matmul(hidden2, weights3) + biases3\n\ncross_entropy = tf.nn.sparse_softmax_cross_entropy_with_logits(labels=y, logits=logits)\nreg_loss = regularizer(weights1) + regularizer(weights2) + regularizer(weights3)\nloss = cross_entropy + reg_loss\noptimizer = tf.train.AdamOptimizer(learning_rate)\ntraining_op = optimizer.minimize(loss)\n\ncorrect = tf.nn.in_top_k(logits, y, 1)\naccuracy = tf.reduce_mean(tf.cast(correct, tf.float32))\n\ninit = tf.global_variables_initializer()\npretrain_saver = tf.train.Saver([weights1, weights2, biases1, biases2])\nsaver = tf.train.Saver()", 
            "cell_type": "code", 
            "execution_count": 30, 
            "outputs": [], 
            "metadata": {}
        }, 
        {
            "source": "Regular training (without pretraining):", 
            "cell_type": "markdown", 
            "metadata": {}
        }, 
        {
            "source": "n_epochs = 4\nbatch_size = 150\nn_labeled_instances = 20000\n\nwith tf.Session() as sess:\n    init.run()\n    for epoch in range(n_epochs):\n        n_batches = n_labeled_instances // batch_size\n        for iteration in range(n_batches):\n            print(\"\\r{}%\".format(100 * iteration // n_batches), end=\"\")\n            sys.stdout.flush()\n            indices = rnd.permutation(n_labeled_instances)[:batch_size]\n            X_batch, y_batch = mnist.train.images[indices], mnist.train.labels[indices]\n            sess.run(training_op, feed_dict={X: X_batch, y: y_batch})\n        accuracy_val = accuracy.eval(feed_dict={X: X_batch, y: y_batch})\n        print(\"\\r{}\".format(epoch), \"Train accuracy:\", accuracy_val, end=\" \")\n        saver.save(sess, \"./my_model_supervised.ckpt\")\n        accuracy_val = accuracy.eval(feed_dict={X: mnist.test.images, y: mnist.test.labels})\n        print(\"Test accuracy:\", accuracy_val)", 
            "cell_type": "code", 
            "execution_count": 31, 
            "outputs": [
                {
                    "output_type": "stream", 
                    "name": "stdout", 
                    "text": "0 Train accuracy: 0.973333 Test accuracy: 0.9334\n1 Train accuracy: 0.98 Test accuracy: 0.936\n2 Train accuracy: 0.973333 Test accuracy: 0.9382\n3 Train accuracy: 0.986667 Test accuracy: 0.9492\n"
                }
            ], 
            "metadata": {}
        }, 
        {
            "source": "Now reusing the first two layers of the autoencoder we pretrained:", 
            "cell_type": "markdown", 
            "metadata": {}
        }, 
        {
            "source": "n_epochs = 4\nbatch_size = 150\nn_labeled_instances = 20000\n\n#training_op = optimizer.minimize(loss, var_list=[weights3, biases3])  # Freeze layers 1 and 2 (optional)\n\nwith tf.Session() as sess:\n    init.run()\n    pretrain_saver.restore(sess, \"./my_model_cache_frozen.ckpt\")\n    for epoch in range(n_epochs):\n        n_batches = n_labeled_instances // batch_size\n        for iteration in range(n_batches):\n            print(\"\\r{}%\".format(100 * iteration // n_batches), end=\"\")\n            sys.stdout.flush()\n            indices = rnd.permutation(n_labeled_instances)[:batch_size]\n            X_batch, y_batch = mnist.train.images[indices], mnist.train.labels[indices]\n            sess.run(training_op, feed_dict={X: X_batch, y: y_batch})\n        accuracy_val = accuracy.eval(feed_dict={X: X_batch, y: y_batch})\n        print(\"\\r{}\".format(epoch), \"Train accuracy:\", accuracy_val, end=\"\\t\")\n        saver.save(sess, \"./my_model_supervised_pretrained.ckpt\")\n        accuracy_val = accuracy.eval(feed_dict={X: mnist.test.images, y: mnist.test.labels})\n        print(\"Test accuracy:\", accuracy_val)", 
            "cell_type": "code", 
            "execution_count": 32, 
            "outputs": [
                {
                    "output_type": "stream", 
                    "name": "stdout", 
                    "text": "INFO:tensorflow:Restoring parameters from ./my_model_cache_frozen.ckpt\n0 Train accuracy: 0.966667\tTest accuracy: 0.9261\n1 Train accuracy: 0.966667\tTest accuracy: 0.9366\n2 Train accuracy: 0.986667\tTest accuracy: 0.9367\n3 Train accuracy: 0.98\tTest accuracy: 0.9491\n"
                }
            ], 
            "metadata": {}
        }, 
        {
            "source": "# Stacked denoising Autoencoder", 
            "cell_type": "markdown", 
            "metadata": {}
        }, 
        {
            "source": "Note: the book uses `tf.contrib.layers.dropout()` rather than `tf.layers.dropout()` (which did not exist when this chapter was written). It is now preferable to use `tf.layers.dropout()`, because anything in the contrib module may change or be deleted without notice. The `tf.layers.dropout()` function is almost identical to the `tf.contrib.layers.dropout()` function, except for a few minor differences. Most importantly:\n* you must specify the dropout rate (`rate`) rather than the keep probability (`keep_prob`), where `rate` is simply equal to `1 - keep_prob`,\n* the `is_training` parameter is renamed to `training`.", 
            "cell_type": "markdown", 
            "metadata": {}
        }, 
        {
            "source": "Using Gaussian noise:", 
            "cell_type": "markdown", 
            "metadata": {}
        }, 
        {
            "source": "reset_graph()\n\nn_inputs = 28 * 28\nn_hidden1 = 300\nn_hidden2 = 150  # codings\nn_hidden3 = n_hidden1\nn_outputs = n_inputs\n\nlearning_rate = 0.01", 
            "cell_type": "code", 
            "execution_count": 33, 
            "outputs": [], 
            "metadata": {}
        }, 
        {
            "source": "noise_level = 1.0\n\nX = tf.placeholder(tf.float32, shape=[None, n_inputs])\nX_noisy = X + noise_level * tf.random_normal(tf.shape(X))\n\nhidden1 = tf.layers.dense(X_noisy, n_hidden1, activation=tf.nn.relu,\n                          name=\"hidden1\")\nhidden2 = tf.layers.dense(hidden1, n_hidden2, activation=tf.nn.relu, # not shown in the book\n                          name=\"hidden2\")                            # not shown\nhidden3 = tf.layers.dense(hidden2, n_hidden3, activation=tf.nn.relu, # not shown\n                          name=\"hidden3\")                            # not shown\noutputs = tf.layers.dense(hidden3, n_outputs, name=\"outputs\")        # not shown\n\nreconstruction_loss = tf.reduce_mean(tf.square(outputs - X)) # MSE", 
            "cell_type": "code", 
            "execution_count": 34, 
            "outputs": [], 
            "metadata": {}
        }, 
        {
            "source": "optimizer = tf.train.AdamOptimizer(learning_rate)\ntraining_op = optimizer.minimize(reconstruction_loss)\n    \ninit = tf.global_variables_initializer()\nsaver = tf.train.Saver()", 
            "cell_type": "code", 
            "execution_count": 35, 
            "outputs": [], 
            "metadata": {}
        }, 
        {
            "source": "n_epochs = 10\nbatch_size = 150\n\nwith tf.Session() as sess:\n    init.run()\n    for epoch in range(n_epochs):\n        n_batches = mnist.train.num_examples // batch_size\n        for iteration in range(n_batches):\n            print(\"\\r{}%\".format(100 * iteration // n_batches), end=\"\")\n            sys.stdout.flush()\n            X_batch, y_batch = mnist.train.next_batch(batch_size)\n            sess.run(training_op, feed_dict={X: X_batch})\n        loss_train = reconstruction_loss.eval(feed_dict={X: X_batch})\n        print(\"\\r{}\".format(epoch), \"Train MSE:\", loss_train)\n        saver.save(sess, \"./my_model_stacked_denoising_gaussian.ckpt\")", 
            "cell_type": "code", 
            "execution_count": 36, 
            "outputs": [
                {
                    "output_type": "stream", 
                    "name": "stdout", 
                    "text": "0 Train MSE: 0.0440489\n1 Train MSE: 0.0432517\n2 Train MSE: 0.042057\n3 Train MSE: 0.0409477\n4 Train MSE: 0.0402107\n5 Train MSE: 0.0388787\n6 Train MSE: 0.0391096\n7 Train MSE: 0.0421885\n8 Train MSE: 0.0398648\n9 Train MSE: 0.0408181\n"
                }
            ], 
            "metadata": {}
        }, 
        {
            "source": "Using dropout:", 
            "cell_type": "markdown", 
            "metadata": {}
        }, 
        {
            "source": "reset_graph()\n\nn_inputs = 28 * 28\nn_hidden1 = 300\nn_hidden2 = 150  # codings\nn_hidden3 = n_hidden1\nn_outputs = n_inputs\n\nlearning_rate = 0.01", 
            "cell_type": "code", 
            "execution_count": 37, 
            "outputs": [], 
            "metadata": {}
        }, 
        {
            "source": "dropout_rate = 0.3\n\ntraining = tf.placeholder_with_default(False, shape=(), name='training')\n\nX = tf.placeholder(tf.float32, shape=[None, n_inputs])\nX_drop = tf.layers.dropout(X, dropout_rate, training=training)\n\nhidden1 = tf.layers.dense(X_drop, n_hidden1, activation=tf.nn.relu,\n                          name=\"hidden1\")\nhidden2 = tf.layers.dense(hidden1, n_hidden2, activation=tf.nn.relu, # not shown in the book\n                          name=\"hidden2\")                            # not shown\nhidden3 = tf.layers.dense(hidden2, n_hidden3, activation=tf.nn.relu, # not shown\n                          name=\"hidden3\")                            # not shown\noutputs = tf.layers.dense(hidden3, n_outputs, name=\"outputs\")        # not shown\n\nreconstruction_loss = tf.reduce_mean(tf.square(outputs - X)) # MSE", 
            "cell_type": "code", 
            "execution_count": 38, 
            "outputs": [], 
            "metadata": {}
        }, 
        {
            "source": "optimizer = tf.train.AdamOptimizer(learning_rate)\ntraining_op = optimizer.minimize(reconstruction_loss)\n    \ninit = tf.global_variables_initializer()\nsaver = tf.train.Saver()", 
            "cell_type": "code", 
            "execution_count": 39, 
            "outputs": [], 
            "metadata": {}
        }, 
        {
            "source": "n_epochs = 10\nbatch_size = 150\n\nwith tf.Session() as sess:\n    init.run()\n    for epoch in range(n_epochs):\n        n_batches = mnist.train.num_examples // batch_size\n        for iteration in range(n_batches):\n            print(\"\\r{}%\".format(100 * iteration // n_batches), end=\"\")\n            sys.stdout.flush()\n            X_batch, y_batch = mnist.train.next_batch(batch_size)\n            sess.run(training_op, feed_dict={X: X_batch, training: True})\n        loss_train = reconstruction_loss.eval(feed_dict={X: X_batch})\n        print(\"\\r{}\".format(epoch), \"Train MSE:\", loss_train)\n        saver.save(sess, \"./my_model_stacked_denoising_dropout.ckpt\")", 
            "cell_type": "code", 
            "execution_count": 40, 
            "outputs": [
                {
                    "output_type": "stream", 
                    "name": "stdout", 
                    "text": "0 Train MSE: 0.0296476\n1 Train MSE: 0.0275545\n2 Train MSE: 0.0250731\n3 Train MSE: 0.0254317\n4 Train MSE: 0.0249076\n5 Train MSE: 0.0250501\n6 Train MSE: 0.024483\n7 Train MSE: 0.0251505\n8 Train MSE: 0.0243836\n9 Train MSE: 0.0242349\n"
                }
            ], 
            "metadata": {}
        }, 
        {
            "source": "show_reconstructed_digits(X, outputs, \"./my_model_stacked_denoising_dropout.ckpt\")", 
            "cell_type": "code", 
            "execution_count": 41, 
            "outputs": [
                {
                    "output_type": "stream", 
                    "name": "stdout", 
                    "text": "INFO:tensorflow:Restoring parameters from ./my_model_stacked_denoising_dropout.ckpt\n"
                }, 
                {
                    "output_type": "display_data", 
                    "data": {
                        "image/png": "[encoded data removed]", 
                        "text/plain": "<matplotlib.figure.Figure at 0x7fe1642eec50>"
                    }, 
                    "metadata": {}
                }
            ], 
            "metadata": {}
        }, 
        {
            "source": "# Sparse Autoencoder", 
            "cell_type": "markdown", 
            "metadata": {}
        }, 
        {
            "source": "p = 0.1\nq = np.linspace(0.001, 0.999, 500)\nkl_div = p * np.log(p / q) + (1 - p) * np.log((1 - p) / (1 - q))\nmse = (p - q)**2\nplt.plot([p, p], [0, 0.3], \"k:\")\nplt.text(0.05, 0.32, \"Target\\nsparsity\", fontsize=14)\nplt.plot(q, kl_div, \"b-\", label=\"KL divergence\")\nplt.plot(q, mse, \"r--\", label=\"MSE\")\nplt.legend(loc=\"upper left\")\nplt.xlabel(\"Actual sparsity\")\nplt.ylabel(\"Cost\", rotation=0)\nplt.axis([0, 1, 0, 0.95])\n#save_fig(\"sparsity_loss_plot\")", 
            "cell_type": "code", 
            "execution_count": 42, 
            "outputs": [
                {
                    "output_type": "execute_result", 
                    "data": {
                        "text/plain": "[0, 1, 0, 0.95]"
                    }, 
                    "execution_count": 42, 
                    "metadata": {}
                }, 
                {
                    "output_type": "display_data", 
                    "data": {
                        "image/png": "[encoded data removed]", 
                        "text/plain": "<matplotlib.figure.Figure at 0x7fe070150bd0>"
                    }, 
                    "metadata": {}
                }
            ], 
            "metadata": {}
        }, 
        {
            "source": "reset_graph()\n\nn_inputs = 28 * 28\nn_hidden1 = 1000  # sparse codings\nn_outputs = n_inputs", 
            "cell_type": "code", 
            "execution_count": 43, 
            "outputs": [], 
            "metadata": {}
        }, 
        {
            "source": "def kl_divergence(p, q):\n    # Kullback Leibler divergence\n    return p * tf.log(p / q) + (1 - p) * tf.log((1 - p) / (1 - q))\n\nlearning_rate = 0.01\nsparsity_target = 0.1\nsparsity_weight = 0.2\n\nX = tf.placeholder(tf.float32, shape=[None, n_inputs])            # not shown in the book\n\nhidden1 = tf.layers.dense(X, n_hidden1, activation=tf.nn.sigmoid) # not shown\noutputs = tf.layers.dense(hidden1, n_outputs)                     # not shown\n\nhidden1_mean = tf.reduce_mean(hidden1, axis=0) # batch mean\nsparsity_loss = tf.reduce_sum(kl_divergence(sparsity_target, hidden1_mean))\nreconstruction_loss = tf.reduce_mean(tf.square(outputs - X)) # MSE\nloss = reconstruction_loss + sparsity_weight * sparsity_loss\n\noptimizer = tf.train.AdamOptimizer(learning_rate)\ntraining_op = optimizer.minimize(loss)", 
            "cell_type": "code", 
            "execution_count": 44, 
            "outputs": [], 
            "metadata": {}
        }, 
        {
            "source": "init = tf.global_variables_initializer()\nsaver = tf.train.Saver()", 
            "cell_type": "code", 
            "execution_count": 45, 
            "outputs": [], 
            "metadata": {}
        }, 
        {
            "source": "n_epochs = 100\nbatch_size = 1000\n\nwith tf.Session() as sess:\n    init.run()\n    for epoch in range(n_epochs):\n        n_batches = mnist.train.num_examples // batch_size\n        for iteration in range(n_batches):\n            print(\"\\r{}%\".format(100 * iteration // n_batches), end=\"\")\n            sys.stdout.flush()\n            X_batch, y_batch = mnist.train.next_batch(batch_size)\n            sess.run(training_op, feed_dict={X: X_batch})\n        reconstruction_loss_val, sparsity_loss_val, loss_val = sess.run([reconstruction_loss, sparsity_loss, loss], feed_dict={X: X_batch})\n        print(\"\\r{}\".format(epoch), \"Train MSE:\", reconstruction_loss_val, \"\\tSparsity loss:\", sparsity_loss_val, \"\\tTotal loss:\", loss_val)\n        saver.save(sess, \"./my_model_sparse.ckpt\")", 
            "cell_type": "code", 
            "execution_count": 46, 
            "outputs": [
                {
                    "output_type": "stream", 
                    "name": "stdout", 
                    "text": "0 Train MSE: 0.134832 \tSparsity loss: 0.421739 \tTotal loss: 0.21918\n1 Train MSE: 0.0587859 \tSparsity loss: 0.0108979 \tTotal loss: 0.0609655\n2 Train MSE: 0.053738 \tSparsity loss: 0.0201038 \tTotal loss: 0.0577588\n3 Train MSE: 0.0476169 \tSparsity loss: 0.0399679 \tTotal loss: 0.0556105\n4 Train MSE: 0.0447499 \tSparsity loss: 0.0116199 \tTotal loss: 0.0470739\n5 Train MSE: 0.0403685 \tSparsity loss: 0.0930409 \tTotal loss: 0.0589767\n6 Train MSE: 0.0388338 \tSparsity loss: 0.0462908 \tTotal loss: 0.048092\n7 Train MSE: 0.0378196 \tSparsity loss: 0.0758871 \tTotal loss: 0.052997\n8 Train MSE: 0.0332092 \tSparsity loss: 0.0200693 \tTotal loss: 0.037223\n9 Train MSE: 0.0314318 \tSparsity loss: 0.0965061 \tTotal loss: 0.050733\n10 Train MSE: 0.0273777 \tSparsity loss: 0.0670885 \tTotal loss: 0.0407954\n11 Train MSE: 0.0246779 \tSparsity loss: 0.0900828 \tTotal loss: 0.0426945\n12 Train MSE: 0.0233311 \tSparsity loss: 0.0577432 \tTotal loss: 0.0348797\n13 Train MSE: 0.0228954 \tSparsity loss: 0.0623308 \tTotal loss: 0.0353615\n14 Train MSE: 0.0210913 \tSparsity loss: 0.0258186 \tTotal loss: 0.026255\n15 Train MSE: 0.0220006 \tSparsity loss: 0.483207 \tTotal loss: 0.118642\n16 Train MSE: 0.0190526 \tSparsity loss: 0.0361403 \tTotal loss: 0.0262806\n17 Train MSE: 0.0188885 \tSparsity loss: 0.132695 \tTotal loss: 0.0454275\n18 Train MSE: 0.0174156 \tSparsity loss: 0.0403093 \tTotal loss: 0.0254774\n19 Train MSE: 0.0178612 \tSparsity loss: 0.110486 \tTotal loss: 0.0399584\n20 Train MSE: 0.0168293 \tSparsity loss: 0.0291402 \tTotal loss: 0.0226573\n21 Train MSE: 0.0183871 \tSparsity loss: 0.364209 \tTotal loss: 0.0912289\n22 Train MSE: 0.0161226 \tSparsity loss: 0.0556278 \tTotal loss: 0.0272482\n23 Train MSE: 0.0158919 \tSparsity loss: 0.0792573 \tTotal loss: 0.0317434\n24 Train MSE: 0.0157006 \tSparsity loss: 0.149254 \tTotal loss: 0.0455514\n25 Train MSE: 0.0145307 \tSparsity loss: 0.136184 \tTotal loss: 0.0417676\n26 Train MSE: 0.0144209 \tSparsity loss: 0.110554 \tTotal loss: 0.0365316\n27 Train MSE: 0.0138508 \tSparsity loss: 0.0744676 \tTotal loss: 0.0287443\n28 Train MSE: 0.0139305 \tSparsity loss: 0.158476 \tTotal loss: 0.0456257\n29 Train MSE: 0.0133762 \tSparsity loss: 0.143838 \tTotal loss: 0.0421438\n30 Train MSE: 0.0137258 \tSparsity loss: 0.185643 \tTotal loss: 0.0508544\n31 Train MSE: 0.0139518 \tSparsity loss: 0.0635133 \tTotal loss: 0.0266544\n32 Train MSE: 0.013692 \tSparsity loss: 0.0577956 \tTotal loss: 0.0252512\n33 Train MSE: 0.0134704 \tSparsity loss: 0.104171 \tTotal loss: 0.0343045\n34 Train MSE: 0.0124406 \tSparsity loss: 0.136569 \tTotal loss: 0.0397544\n35 Train MSE: 0.0126563 \tSparsity loss: 0.162903 \tTotal loss: 0.0452369\n36 Train MSE: 0.0128764 \tSparsity loss: 0.0948648 \tTotal loss: 0.0318493\n37 Train MSE: 0.0123458 \tSparsity loss: 0.108087 \tTotal loss: 0.0339632\n38 Train MSE: 0.0121672 \tSparsity loss: 0.20089 \tTotal loss: 0.0523451\n39 Train MSE: 0.0122532 \tSparsity loss: 0.149409 \tTotal loss: 0.0421351\n40 Train MSE: 0.0125975 \tSparsity loss: 0.230649 \tTotal loss: 0.0587274\n41 Train MSE: 0.0124657 \tSparsity loss: 0.100664 \tTotal loss: 0.0325984\n42 Train MSE: 0.0116947 \tSparsity loss: 0.101108 \tTotal loss: 0.0319164\n43 Train MSE: 0.0122123 \tSparsity loss: 0.125789 \tTotal loss: 0.0373701\n44 Train MSE: 0.0117173 \tSparsity loss: 0.110301 \tTotal loss: 0.0337774\n45 Train MSE: 0.0116897 \tSparsity loss: 0.165081 \tTotal loss: 0.0447058\n46 Train MSE: 0.011611 \tSparsity loss: 0.130426 \tTotal loss: 0.0376962\n47 Train MSE: 0.0117358 \tSparsity loss: 0.163508 \tTotal loss: 0.0444374\n48 Train MSE: 0.0116507 \tSparsity loss: 0.459586 \tTotal loss: 0.103568\n49 Train MSE: 0.0116655 \tSparsity loss: 0.188114 \tTotal loss: 0.0492883\n50 Train MSE: 0.0114275 \tSparsity loss: 0.19221 \tTotal loss: 0.0498695\n51 Train MSE: 0.0113954 \tSparsity loss: 0.266457 \tTotal loss: 0.0646867\n52 Train MSE: 0.0119332 \tSparsity loss: 0.379985 \tTotal loss: 0.0879303\n53 Train MSE: 0.0113018 \tSparsity loss: 0.129771 \tTotal loss: 0.037256\n54 Train MSE: 0.0153057 \tSparsity loss: 0.434827 \tTotal loss: 0.102271\n55 Train MSE: 0.0134004 \tSparsity loss: 0.0833025 \tTotal loss: 0.0300609\n56 Train MSE: 0.0123188 \tSparsity loss: 0.297605 \tTotal loss: 0.0718399\n57 Train MSE: 0.0122943 \tSparsity loss: 0.247148 \tTotal loss: 0.061724\n58 Train MSE: 0.0239939 \tSparsity loss: 0.215717 \tTotal loss: 0.0671373\n59 Train MSE: 0.013596 \tSparsity loss: 0.203553 \tTotal loss: 0.0543065\n60 Train MSE: 0.0179108 \tSparsity loss: 0.180449 \tTotal loss: 0.0540006\n61 Train MSE: 0.0132258 \tSparsity loss: 0.231824 \tTotal loss: 0.0595906\n62 Train MSE: 0.0136533 \tSparsity loss: 0.498429 \tTotal loss: 0.113339\n63 Train MSE: 0.0143277 \tSparsity loss: 0.333901 \tTotal loss: 0.0811079\n64 Train MSE: 0.0119968 \tSparsity loss: 0.176848 \tTotal loss: 0.0473664\n65 Train MSE: 0.0156422 \tSparsity loss: 0.173917 \tTotal loss: 0.0504256\n66 Train MSE: 0.0150095 \tSparsity loss: 1.02187 \tTotal loss: 0.219383\n67 Train MSE: 0.036823 \tSparsity loss: 0.323619 \tTotal loss: 0.101547\n68 Train MSE: 0.0148193 \tSparsity loss: 0.230714 \tTotal loss: 0.060962\n69 Train MSE: 0.0126409 \tSparsity loss: 0.454552 \tTotal loss: 0.103551\n70 Train MSE: 0.045501 \tSparsity loss: 0.745102 \tTotal loss: 0.194521\n71 Train MSE: 0.0143786 \tSparsity loss: 0.229362 \tTotal loss: 0.060251\n72 Train MSE: 0.0151026 \tSparsity loss: 0.826014 \tTotal loss: 0.180306\n73 Train MSE: 0.0136122 \tSparsity loss: 0.316737 \tTotal loss: 0.0769596\n74 Train MSE: 0.0309757 \tSparsity loss: 0.289552 \tTotal loss: 0.0888861\n75 Train MSE: 0.0304744 \tSparsity loss: 0.489417 \tTotal loss: 0.128358\n76 Train MSE: 0.0204102 \tSparsity loss: 0.201982 \tTotal loss: 0.0608067\n77 Train MSE: 0.0211023 \tSparsity loss: 0.32347 \tTotal loss: 0.0857964\n78 Train MSE: 0.0178777 \tSparsity loss: 0.533425 \tTotal loss: 0.124563\n79 Train MSE: 0.018841 \tSparsity loss: 0.424661 \tTotal loss: 0.103773\n80 Train MSE: 0.0159234 \tSparsity loss: 0.115559 \tTotal loss: 0.0390352\n81 Train MSE: 0.0129649 \tSparsity loss: 0.912508 \tTotal loss: 0.195467\n82 Train MSE: 0.0162278 \tSparsity loss: 2.17347 \tTotal loss: 0.450922\n83 Train MSE: 0.0146708 \tSparsity loss: 0.681089 \tTotal loss: 0.150889\n84 Train MSE: 0.0150686 \tSparsity loss: 0.292309 \tTotal loss: 0.0735305\n85 Train MSE: 0.0250247 \tSparsity loss: 0.949989 \tTotal loss: 0.215023\n86 Train MSE: 0.0146914 \tSparsity loss: 0.685326 \tTotal loss: 0.151757\n87 Train MSE: 0.0122667 \tSparsity loss: 1.44823 \tTotal loss: 0.301912\n88 Train MSE: 0.0197259 \tSparsity loss: 0.861047 \tTotal loss: 0.191935\n89 Train MSE: 0.0331342 \tSparsity loss: 0.291833 \tTotal loss: 0.0915009\n90 Train MSE: 0.0295548 \tSparsity loss: 0.445159 \tTotal loss: 0.118587\n91 Train MSE: 0.0145762 \tSparsity loss: 0.0887034 \tTotal loss: 0.0323169\n92 Train MSE: 0.0147775 \tSparsity loss: 0.390856 \tTotal loss: 0.0929486\n93 Train MSE: 0.0166543 \tSparsity loss: 0.155326 \tTotal loss: 0.0477195\n94 Train MSE: 0.012198 \tSparsity loss: 0.12071 \tTotal loss: 0.03634\n95 Train MSE: 0.0141104 \tSparsity loss: 0.107212 \tTotal loss: 0.0355529\n96 Train MSE: 0.018834 \tSparsity loss: 0.230255 \tTotal loss: 0.0648851\n97 Train MSE: 0.0134663 \tSparsity loss: 0.102045 \tTotal loss: 0.0338754\n98 Train MSE: 0.013678 \tSparsity loss: 0.0839055 \tTotal loss: 0.0304591\n99 Train MSE: 0.0245401 \tSparsity loss: 0.335841 \tTotal loss: 0.0917084\n"
                }
            ], 
            "metadata": {}
        }, 
        {
            "source": "show_reconstructed_digits(X, outputs, \"./my_model_sparse.ckpt\")", 
            "cell_type": "code", 
            "execution_count": 48, 
            "outputs": [
                {
                    "output_type": "stream", 
                    "name": "stdout", 
                    "text": "INFO:tensorflow:Restoring parameters from ./my_model_sparse.ckpt\n"
                }, 
                {
                    "output_type": "display_data", 
                    "data": {
                        "image/png": "[encoded data removed]", 
                        "text/plain": "<matplotlib.figure.Figure at 0x7fe06801d790>"
                    }, 
                    "metadata": {}
                }
            ], 
            "metadata": {}
        }, 
        {
            "source": "Note that the coding layer must output values from 0 to 1, which is why we use the sigmoid activation function:", 
            "cell_type": "markdown", 
            "metadata": {}
        }, 
        {
            "source": "hidden1 = tf.layers.dense(X, n_hidden1, activation=tf.nn.sigmoid)", 
            "cell_type": "code", 
            "execution_count": 49, 
            "outputs": [], 
            "metadata": {}
        }, 
        {
            "source": "To speed up training, you can normalize the inputs between 0 and 1, and use the cross entropy instead of the MSE for the cost function:", 
            "cell_type": "markdown", 
            "metadata": {}
        }, 
        {
            "source": "logits = tf.layers.dense(hidden1, n_outputs)\noutputs = tf.nn.sigmoid(logits)\n\nxentropy = tf.nn.sigmoid_cross_entropy_with_logits(labels=X, logits=logits)\nreconstruction_loss = tf.reduce_mean(xentropy)", 
            "cell_type": "code", 
            "execution_count": 50, 
            "outputs": [], 
            "metadata": {}
        }, 
        {
            "source": "# Variational Autoencoder", 
            "cell_type": "markdown", 
            "metadata": {}
        }, 
        {
            "source": "reset_graph()\n\nfrom functools import partial\n\nn_inputs = 28 * 28\nn_hidden1 = 500\nn_hidden2 = 500\nn_hidden3 = 20  # codings\nn_hidden4 = n_hidden2\nn_hidden5 = n_hidden1\nn_outputs = n_inputs\nlearning_rate = 0.001\n\ninitializer = tf.contrib.layers.variance_scaling_initializer()\n\nmy_dense_layer = partial(\n    tf.layers.dense,\n    activation=tf.nn.elu,\n    kernel_initializer=initializer)\n\nX = tf.placeholder(tf.float32, [None, n_inputs])\nhidden1 = my_dense_layer(X, n_hidden1)\nhidden2 = my_dense_layer(hidden1, n_hidden2)\nhidden3_mean = my_dense_layer(hidden2, n_hidden3, activation=None)\nhidden3_sigma = my_dense_layer(hidden2, n_hidden3, activation=None)\nnoise = tf.random_normal(tf.shape(hidden3_sigma), dtype=tf.float32)\nhidden3 = hidden3_mean + hidden3_sigma * noise\nhidden4 = my_dense_layer(hidden3, n_hidden4)\nhidden5 = my_dense_layer(hidden4, n_hidden5)\nlogits = my_dense_layer(hidden5, n_outputs, activation=None)\noutputs = tf.sigmoid(logits)\n\nxentropy = tf.nn.sigmoid_cross_entropy_with_logits(labels=X, logits=logits)\nreconstruction_loss = tf.reduce_sum(xentropy)", 
            "cell_type": "code", 
            "execution_count": 19, 
            "outputs": [], 
            "metadata": {}
        }, 
        {
            "source": "eps = 1e-10 # smoothing term to avoid computing log(0) which is NaN\nlatent_loss = 0.5 * tf.reduce_sum(\n    tf.square(hidden3_sigma) + tf.square(hidden3_mean)\n    - 1 - tf.log(eps + tf.square(hidden3_sigma)))", 
            "cell_type": "code", 
            "execution_count": 20, 
            "outputs": [], 
            "metadata": {}
        }, 
        {
            "source": "loss = reconstruction_loss + latent_loss\n\noptimizer = tf.train.AdamOptimizer(learning_rate=learning_rate)\ntraining_op = optimizer.minimize(loss)\n\ninit = tf.global_variables_initializer()\nsaver = tf.train.Saver()", 
            "cell_type": "code", 
            "execution_count": 21, 
            "outputs": [], 
            "metadata": {}
        }, 
        {
            "source": "n_epochs = 50\nbatch_size = 150\n\nwith tf.Session() as sess:\n    init.run()\n    for epoch in range(n_epochs):\n        n_batches = mnist.train.num_examples // batch_size\n        for iteration in range(n_batches):\n            print(\"\\r{}%\".format(100 * iteration // n_batches), end=\"\")\n            sys.stdout.flush()\n            X_batch, y_batch = mnist.train.next_batch(batch_size)\n            sess.run(training_op, feed_dict={X: X_batch})\n        loss_val, reconstruction_loss_val, latent_loss_val = sess.run([loss, reconstruction_loss, latent_loss], feed_dict={X: X_batch})\n        print(\"\\r{}\".format(epoch), \"Train total loss:\", loss_val, \"\\tReconstruction loss:\", reconstruction_loss_val, \"\\tLatent loss:\", latent_loss_val)\n        saver.save(sess, \"./my_model_variational.ckpt\")", 
            "cell_type": "code", 
            "execution_count": 22, 
            "outputs": [
                {
                    "output_type": "stream", 
                    "name": "stdout", 
                    "text": "0 Train total loss: 30338.9 \tReconstruction loss: 24411.3 \tLatent loss: 5927.66\n1 Train total loss: 29236.9 \tReconstruction loss: 24008.3 \tLatent loss: 5228.58\n58%"
                }, 
                {
                    "output_type": "error", 
                    "evalue": "", 
                    "traceback": [
                        "\u001b[0;31m\u001b[0m", 
                        "\u001b[0;31mKeyboardInterrupt\u001b[0mTraceback (most recent call last)", 
                        "\u001b[0;32m<ipython-input-22-30ca4f18a5ae>\u001b[0m in \u001b[0;36m<module>\u001b[0;34m()\u001b[0m\n\u001b[1;32m     10\u001b[0m             \u001b[0msys\u001b[0m\u001b[0;34m.\u001b[0m\u001b[0mstdout\u001b[0m\u001b[0;34m.\u001b[0m\u001b[0mflush\u001b[0m\u001b[0;34m(\u001b[0m\u001b[0;34m)\u001b[0m\u001b[0;34m\u001b[0m\u001b[0m\n\u001b[1;32m     11\u001b[0m             \u001b[0mX_batch\u001b[0m\u001b[0;34m,\u001b[0m \u001b[0my_batch\u001b[0m \u001b[0;34m=\u001b[0m \u001b[0mmnist\u001b[0m\u001b[0;34m.\u001b[0m\u001b[0mtrain\u001b[0m\u001b[0;34m.\u001b[0m\u001b[0mnext_batch\u001b[0m\u001b[0;34m(\u001b[0m\u001b[0mbatch_size\u001b[0m\u001b[0;34m)\u001b[0m\u001b[0;34m\u001b[0m\u001b[0m\n\u001b[0;32m---> 12\u001b[0;31m             \u001b[0msess\u001b[0m\u001b[0;34m.\u001b[0m\u001b[0mrun\u001b[0m\u001b[0;34m(\u001b[0m\u001b[0mtraining_op\u001b[0m\u001b[0;34m,\u001b[0m \u001b[0mfeed_dict\u001b[0m\u001b[0;34m=\u001b[0m\u001b[0;34m{\u001b[0m\u001b[0mX\u001b[0m\u001b[0;34m:\u001b[0m \u001b[0mX_batch\u001b[0m\u001b[0;34m}\u001b[0m\u001b[0;34m)\u001b[0m\u001b[0;34m\u001b[0m\u001b[0m\n\u001b[0m\u001b[1;32m     13\u001b[0m         \u001b[0mloss_val\u001b[0m\u001b[0;34m,\u001b[0m \u001b[0mreconstruction_loss_val\u001b[0m\u001b[0;34m,\u001b[0m \u001b[0mlatent_loss_val\u001b[0m \u001b[0;34m=\u001b[0m \u001b[0msess\u001b[0m\u001b[0;34m.\u001b[0m\u001b[0mrun\u001b[0m\u001b[0;34m(\u001b[0m\u001b[0;34m[\u001b[0m\u001b[0mloss\u001b[0m\u001b[0;34m,\u001b[0m \u001b[0mreconstruction_loss\u001b[0m\u001b[0;34m,\u001b[0m \u001b[0mlatent_loss\u001b[0m\u001b[0;34m]\u001b[0m\u001b[0;34m,\u001b[0m \u001b[0mfeed_dict\u001b[0m\u001b[0;34m=\u001b[0m\u001b[0;34m{\u001b[0m\u001b[0mX\u001b[0m\u001b[0;34m:\u001b[0m \u001b[0mX_batch\u001b[0m\u001b[0;34m}\u001b[0m\u001b[0;34m)\u001b[0m\u001b[0;34m\u001b[0m\u001b[0m\n\u001b[1;32m     14\u001b[0m         \u001b[0;32mprint\u001b[0m\u001b[0;34m(\u001b[0m\u001b[0;34m\"\\r{}\"\u001b[0m\u001b[0;34m.\u001b[0m\u001b[0mformat\u001b[0m\u001b[0;34m(\u001b[0m\u001b[0mepoch\u001b[0m\u001b[0;34m)\u001b[0m\u001b[0;34m,\u001b[0m \u001b[0;34m\"Train total loss:\"\u001b[0m\u001b[0;34m,\u001b[0m \u001b[0mloss_val\u001b[0m\u001b[0;34m,\u001b[0m \u001b[0;34m\"\\tReconstruction loss:\"\u001b[0m\u001b[0;34m,\u001b[0m \u001b[0mreconstruction_loss_val\u001b[0m\u001b[0;34m,\u001b[0m \u001b[0;34m\"\\tLatent loss:\"\u001b[0m\u001b[0;34m,\u001b[0m \u001b[0mlatent_loss_val\u001b[0m\u001b[0;34m)\u001b[0m\u001b[0;34m\u001b[0m\u001b[0m\n", 
                        "\u001b[0;32m/usr/local/src/bluemix_jupyter_bundle.v91/notebook/lib/python2.7/site-packages/tensorflow/python/client/session.pyc\u001b[0m in \u001b[0;36mrun\u001b[0;34m(self, fetches, feed_dict, options, run_metadata)\u001b[0m\n\u001b[1;32m    787\u001b[0m     \u001b[0;32mtry\u001b[0m\u001b[0;34m:\u001b[0m\u001b[0;34m\u001b[0m\u001b[0m\n\u001b[1;32m    788\u001b[0m       result = self._run(None, fetches, feed_dict, options_ptr,\n\u001b[0;32m--> 789\u001b[0;31m                          run_metadata_ptr)\n\u001b[0m\u001b[1;32m    790\u001b[0m       \u001b[0;32mif\u001b[0m \u001b[0mrun_metadata\u001b[0m\u001b[0;34m:\u001b[0m\u001b[0;34m\u001b[0m\u001b[0m\n\u001b[1;32m    791\u001b[0m         \u001b[0mproto_data\u001b[0m \u001b[0;34m=\u001b[0m \u001b[0mtf_session\u001b[0m\u001b[0;34m.\u001b[0m\u001b[0mTF_GetBuffer\u001b[0m\u001b[0;34m(\u001b[0m\u001b[0mrun_metadata_ptr\u001b[0m\u001b[0;34m)\u001b[0m\u001b[0;34m\u001b[0m\u001b[0m\n", 
                        "\u001b[0;32m/usr/local/src/bluemix_jupyter_bundle.v91/notebook/lib/python2.7/site-packages/tensorflow/python/client/session.pyc\u001b[0m in \u001b[0;36m_run\u001b[0;34m(self, handle, fetches, feed_dict, options, run_metadata)\u001b[0m\n\u001b[1;32m    995\u001b[0m     \u001b[0;32mif\u001b[0m \u001b[0mfinal_fetches\u001b[0m \u001b[0;32mor\u001b[0m \u001b[0mfinal_targets\u001b[0m\u001b[0;34m:\u001b[0m\u001b[0;34m\u001b[0m\u001b[0m\n\u001b[1;32m    996\u001b[0m       results = self._do_run(handle, final_targets, final_fetches,\n\u001b[0;32m--> 997\u001b[0;31m                              feed_dict_string, options, run_metadata)\n\u001b[0m\u001b[1;32m    998\u001b[0m     \u001b[0;32melse\u001b[0m\u001b[0;34m:\u001b[0m\u001b[0;34m\u001b[0m\u001b[0m\n\u001b[1;32m    999\u001b[0m       \u001b[0mresults\u001b[0m \u001b[0;34m=\u001b[0m \u001b[0;34m[\u001b[0m\u001b[0;34m]\u001b[0m\u001b[0;34m\u001b[0m\u001b[0m\n", 
                        "\u001b[0;32m/usr/local/src/bluemix_jupyter_bundle.v91/notebook/lib/python2.7/site-packages/tensorflow/python/client/session.pyc\u001b[0m in \u001b[0;36m_do_run\u001b[0;34m(self, handle, target_list, fetch_list, feed_dict, options, run_metadata)\u001b[0m\n\u001b[1;32m   1130\u001b[0m     \u001b[0;32mif\u001b[0m \u001b[0mhandle\u001b[0m \u001b[0;32mis\u001b[0m \u001b[0mNone\u001b[0m\u001b[0;34m:\u001b[0m\u001b[0;34m\u001b[0m\u001b[0m\n\u001b[1;32m   1131\u001b[0m       return self._do_call(_run_fn, self._session, feed_dict, fetch_list,\n\u001b[0;32m-> 1132\u001b[0;31m                            target_list, options, run_metadata)\n\u001b[0m\u001b[1;32m   1133\u001b[0m     \u001b[0;32melse\u001b[0m\u001b[0;34m:\u001b[0m\u001b[0;34m\u001b[0m\u001b[0m\n\u001b[1;32m   1134\u001b[0m       return self._do_call(_prun_fn, self._session, handle, feed_dict,\n", 
                        "\u001b[0;32m/usr/local/src/bluemix_jupyter_bundle.v91/notebook/lib/python2.7/site-packages/tensorflow/python/client/session.pyc\u001b[0m in \u001b[0;36m_do_call\u001b[0;34m(self, fn, *args)\u001b[0m\n\u001b[1;32m   1137\u001b[0m   \u001b[0;32mdef\u001b[0m \u001b[0m_do_call\u001b[0m\u001b[0;34m(\u001b[0m\u001b[0mself\u001b[0m\u001b[0;34m,\u001b[0m \u001b[0mfn\u001b[0m\u001b[0;34m,\u001b[0m \u001b[0;34m*\u001b[0m\u001b[0margs\u001b[0m\u001b[0;34m)\u001b[0m\u001b[0;34m:\u001b[0m\u001b[0;34m\u001b[0m\u001b[0m\n\u001b[1;32m   1138\u001b[0m     \u001b[0;32mtry\u001b[0m\u001b[0;34m:\u001b[0m\u001b[0;34m\u001b[0m\u001b[0m\n\u001b[0;32m-> 1139\u001b[0;31m       \u001b[0;32mreturn\u001b[0m \u001b[0mfn\u001b[0m\u001b[0;34m(\u001b[0m\u001b[0;34m*\u001b[0m\u001b[0margs\u001b[0m\u001b[0;34m)\u001b[0m\u001b[0;34m\u001b[0m\u001b[0m\n\u001b[0m\u001b[1;32m   1140\u001b[0m     \u001b[0;32mexcept\u001b[0m \u001b[0merrors\u001b[0m\u001b[0;34m.\u001b[0m\u001b[0mOpError\u001b[0m \u001b[0;32mas\u001b[0m \u001b[0me\u001b[0m\u001b[0;34m:\u001b[0m\u001b[0;34m\u001b[0m\u001b[0m\n\u001b[1;32m   1141\u001b[0m       \u001b[0mmessage\u001b[0m \u001b[0;34m=\u001b[0m \u001b[0mcompat\u001b[0m\u001b[0;34m.\u001b[0m\u001b[0mas_text\u001b[0m\u001b[0;34m(\u001b[0m\u001b[0me\u001b[0m\u001b[0;34m.\u001b[0m\u001b[0mmessage\u001b[0m\u001b[0;34m)\u001b[0m\u001b[0;34m\u001b[0m\u001b[0m\n", 
                        "\u001b[0;32m/usr/local/src/bluemix_jupyter_bundle.v91/notebook/lib/python2.7/site-packages/tensorflow/python/client/session.pyc\u001b[0m in \u001b[0;36m_run_fn\u001b[0;34m(session, feed_dict, fetch_list, target_list, options, run_metadata)\u001b[0m\n\u001b[1;32m   1119\u001b[0m         return tf_session.TF_Run(session, options,\n\u001b[1;32m   1120\u001b[0m                                  \u001b[0mfeed_dict\u001b[0m\u001b[0;34m,\u001b[0m \u001b[0mfetch_list\u001b[0m\u001b[0;34m,\u001b[0m \u001b[0mtarget_list\u001b[0m\u001b[0;34m,\u001b[0m\u001b[0;34m\u001b[0m\u001b[0m\n\u001b[0;32m-> 1121\u001b[0;31m                                  status, run_metadata)\n\u001b[0m\u001b[1;32m   1122\u001b[0m \u001b[0;34m\u001b[0m\u001b[0m\n\u001b[1;32m   1123\u001b[0m     \u001b[0;32mdef\u001b[0m \u001b[0m_prun_fn\u001b[0m\u001b[0;34m(\u001b[0m\u001b[0msession\u001b[0m\u001b[0;34m,\u001b[0m \u001b[0mhandle\u001b[0m\u001b[0;34m,\u001b[0m \u001b[0mfeed_dict\u001b[0m\u001b[0;34m,\u001b[0m \u001b[0mfetch_list\u001b[0m\u001b[0;34m)\u001b[0m\u001b[0;34m:\u001b[0m\u001b[0;34m\u001b[0m\u001b[0m\n", 
                        "\u001b[0;31mKeyboardInterrupt\u001b[0m: "
                    ], 
                    "ename": "KeyboardInterrupt"
                }
            ], 
            "metadata": {}
        }, 
        {
            "source": "reset_graph()\n\nfrom functools import partial\n\nn_inputs = 28 * 28\nn_hidden1 = 500\nn_hidden2 = 500\nn_hidden3 = 20  # codings\nn_hidden4 = n_hidden2\nn_hidden5 = n_hidden1\nn_outputs = n_inputs\nlearning_rate = 0.001\n\ninitializer = tf.contrib.layers.variance_scaling_initializer()\nmy_dense_layer = partial(\n    tf.layers.dense,\n    activation=tf.nn.elu,\n    kernel_initializer=initializer)\n\nX = tf.placeholder(tf.float32, [None, n_inputs])\nhidden1 = my_dense_layer(X, n_hidden1)\nhidden2 = my_dense_layer(hidden1, n_hidden2)\nhidden3_mean = my_dense_layer(hidden2, n_hidden3, activation=None)\nhidden3_gamma = my_dense_layer(hidden2, n_hidden3, activation=None)\nnoise = tf.random_normal(tf.shape(hidden3_gamma), dtype=tf.float32)\nhidden3 = hidden3_mean + tf.exp(0.5 * hidden3_gamma) * noise\nhidden4 = my_dense_layer(hidden3, n_hidden4)\nhidden5 = my_dense_layer(hidden4, n_hidden5)\nlogits = my_dense_layer(hidden5, n_outputs, activation=None)\noutputs = tf.sigmoid(logits)\n\nxentropy = tf.nn.sigmoid_cross_entropy_with_logits(labels=X, logits=logits)\nreconstruction_loss = tf.reduce_sum(xentropy)\nlatent_loss = 0.5 * tf.reduce_sum(\n    tf.exp(hidden3_gamma) + tf.square(hidden3_mean) - 1 - hidden3_gamma)\nloss = reconstruction_loss + latent_loss\n\noptimizer = tf.train.AdamOptimizer(learning_rate=learning_rate)\ntraining_op = optimizer.minimize(loss)\n\ninit = tf.global_variables_initializer()\nsaver = tf.train.Saver()", 
            "cell_type": "code", 
            "execution_count": 23, 
            "outputs": [], 
            "metadata": {}
        }, 
        {
            "source": "## Generate digits", 
            "cell_type": "markdown", 
            "metadata": {}
        }, 
        {
            "source": "Let's train the model and generate a few random digits:", 
            "cell_type": "markdown", 
            "metadata": {}
        }, 
        {
            "source": "import numpy as np\n\nn_digits = 60\nn_epochs = 50\nbatch_size = 150\n\nwith tf.Session() as sess:\n    init.run()\n    for epoch in range(n_epochs):\n        n_batches = mnist.train.num_examples // batch_size\n        for iteration in range(n_batches):\n            print(\"\\r{}%\".format(100 * iteration // n_batches), end=\"\") # not shown in the book\n            sys.stdout.flush()                                          # not shown\n            X_batch, y_batch = mnist.train.next_batch(batch_size)\n            sess.run(training_op, feed_dict={X: X_batch})\n        loss_val, reconstruction_loss_val, latent_loss_val = sess.run([loss, reconstruction_loss, latent_loss], feed_dict={X: X_batch}) # not shown\n        print(\"\\r{}\".format(epoch), \"Train total loss:\", loss_val, \"\\tReconstruction loss:\", reconstruction_loss_val, \"\\tLatent loss:\", latent_loss_val)  # not shown\n        saver.save(sess, \"./my_model_variational.ckpt\")  # not shown\n    \n    codings_rnd = np.random.normal(size=[n_digits, n_hidden3])\n    outputs_val = outputs.eval(feed_dict={hidden3: codings_rnd})", 
            "cell_type": "code", 
            "execution_count": 24, 
            "outputs": [
                {
                    "output_type": "stream", 
                    "name": "stdout", 
                    "text": "0 Train total loss: 18027.6 \tReconstruction loss: 14424.5 \tLatent loss: 3603.12\n1 Train total loss: 17476.5 \tReconstruction loss: 13789.8 \tLatent loss: 3686.71\n47%"
                }, 
                {
                    "output_type": "error", 
                    "evalue": "", 
                    "traceback": [
                        "\u001b[0;31m\u001b[0m", 
                        "\u001b[0;31mKeyboardInterrupt\u001b[0mTraceback (most recent call last)", 
                        "\u001b[0;32m<ipython-input-24-219a985e910e>\u001b[0m in \u001b[0;36m<module>\u001b[0;34m()\u001b[0m\n\u001b[1;32m     13\u001b[0m             \u001b[0msys\u001b[0m\u001b[0;34m.\u001b[0m\u001b[0mstdout\u001b[0m\u001b[0;34m.\u001b[0m\u001b[0mflush\u001b[0m\u001b[0;34m(\u001b[0m\u001b[0;34m)\u001b[0m                                          \u001b[0;31m# not shown\u001b[0m\u001b[0;34m\u001b[0m\u001b[0m\n\u001b[1;32m     14\u001b[0m             \u001b[0mX_batch\u001b[0m\u001b[0;34m,\u001b[0m \u001b[0my_batch\u001b[0m \u001b[0;34m=\u001b[0m \u001b[0mmnist\u001b[0m\u001b[0;34m.\u001b[0m\u001b[0mtrain\u001b[0m\u001b[0;34m.\u001b[0m\u001b[0mnext_batch\u001b[0m\u001b[0;34m(\u001b[0m\u001b[0mbatch_size\u001b[0m\u001b[0;34m)\u001b[0m\u001b[0;34m\u001b[0m\u001b[0m\n\u001b[0;32m---> 15\u001b[0;31m             \u001b[0msess\u001b[0m\u001b[0;34m.\u001b[0m\u001b[0mrun\u001b[0m\u001b[0;34m(\u001b[0m\u001b[0mtraining_op\u001b[0m\u001b[0;34m,\u001b[0m \u001b[0mfeed_dict\u001b[0m\u001b[0;34m=\u001b[0m\u001b[0;34m{\u001b[0m\u001b[0mX\u001b[0m\u001b[0;34m:\u001b[0m \u001b[0mX_batch\u001b[0m\u001b[0;34m}\u001b[0m\u001b[0;34m)\u001b[0m\u001b[0;34m\u001b[0m\u001b[0m\n\u001b[0m\u001b[1;32m     16\u001b[0m         \u001b[0mloss_val\u001b[0m\u001b[0;34m,\u001b[0m \u001b[0mreconstruction_loss_val\u001b[0m\u001b[0;34m,\u001b[0m \u001b[0mlatent_loss_val\u001b[0m \u001b[0;34m=\u001b[0m \u001b[0msess\u001b[0m\u001b[0;34m.\u001b[0m\u001b[0mrun\u001b[0m\u001b[0;34m(\u001b[0m\u001b[0;34m[\u001b[0m\u001b[0mloss\u001b[0m\u001b[0;34m,\u001b[0m \u001b[0mreconstruction_loss\u001b[0m\u001b[0;34m,\u001b[0m \u001b[0mlatent_loss\u001b[0m\u001b[0;34m]\u001b[0m\u001b[0;34m,\u001b[0m \u001b[0mfeed_dict\u001b[0m\u001b[0;34m=\u001b[0m\u001b[0;34m{\u001b[0m\u001b[0mX\u001b[0m\u001b[0;34m:\u001b[0m \u001b[0mX_batch\u001b[0m\u001b[0;34m}\u001b[0m\u001b[0;34m)\u001b[0m \u001b[0;31m# not shown\u001b[0m\u001b[0;34m\u001b[0m\u001b[0m\n\u001b[1;32m     17\u001b[0m         \u001b[0;32mprint\u001b[0m\u001b[0;34m(\u001b[0m\u001b[0;34m\"\\r{}\"\u001b[0m\u001b[0;34m.\u001b[0m\u001b[0mformat\u001b[0m\u001b[0;34m(\u001b[0m\u001b[0mepoch\u001b[0m\u001b[0;34m)\u001b[0m\u001b[0;34m,\u001b[0m \u001b[0;34m\"Train total loss:\"\u001b[0m\u001b[0;34m,\u001b[0m \u001b[0mloss_val\u001b[0m\u001b[0;34m,\u001b[0m \u001b[0;34m\"\\tReconstruction loss:\"\u001b[0m\u001b[0;34m,\u001b[0m \u001b[0mreconstruction_loss_val\u001b[0m\u001b[0;34m,\u001b[0m \u001b[0;34m\"\\tLatent loss:\"\u001b[0m\u001b[0;34m,\u001b[0m \u001b[0mlatent_loss_val\u001b[0m\u001b[0;34m)\u001b[0m  \u001b[0;31m# not shown\u001b[0m\u001b[0;34m\u001b[0m\u001b[0m\n", 
                        "\u001b[0;32m/usr/local/src/bluemix_jupyter_bundle.v91/notebook/lib/python2.7/site-packages/tensorflow/python/client/session.pyc\u001b[0m in \u001b[0;36mrun\u001b[0;34m(self, fetches, feed_dict, options, run_metadata)\u001b[0m\n\u001b[1;32m    787\u001b[0m     \u001b[0;32mtry\u001b[0m\u001b[0;34m:\u001b[0m\u001b[0;34m\u001b[0m\u001b[0m\n\u001b[1;32m    788\u001b[0m       result = self._run(None, fetches, feed_dict, options_ptr,\n\u001b[0;32m--> 789\u001b[0;31m                          run_metadata_ptr)\n\u001b[0m\u001b[1;32m    790\u001b[0m       \u001b[0;32mif\u001b[0m \u001b[0mrun_metadata\u001b[0m\u001b[0;34m:\u001b[0m\u001b[0;34m\u001b[0m\u001b[0m\n\u001b[1;32m    791\u001b[0m         \u001b[0mproto_data\u001b[0m \u001b[0;34m=\u001b[0m \u001b[0mtf_session\u001b[0m\u001b[0;34m.\u001b[0m\u001b[0mTF_GetBuffer\u001b[0m\u001b[0;34m(\u001b[0m\u001b[0mrun_metadata_ptr\u001b[0m\u001b[0;34m)\u001b[0m\u001b[0;34m\u001b[0m\u001b[0m\n", 
                        "\u001b[0;32m/usr/local/src/bluemix_jupyter_bundle.v91/notebook/lib/python2.7/site-packages/tensorflow/python/client/session.pyc\u001b[0m in \u001b[0;36m_run\u001b[0;34m(self, handle, fetches, feed_dict, options, run_metadata)\u001b[0m\n\u001b[1;32m    995\u001b[0m     \u001b[0;32mif\u001b[0m \u001b[0mfinal_fetches\u001b[0m \u001b[0;32mor\u001b[0m \u001b[0mfinal_targets\u001b[0m\u001b[0;34m:\u001b[0m\u001b[0;34m\u001b[0m\u001b[0m\n\u001b[1;32m    996\u001b[0m       results = self._do_run(handle, final_targets, final_fetches,\n\u001b[0;32m--> 997\u001b[0;31m                              feed_dict_string, options, run_metadata)\n\u001b[0m\u001b[1;32m    998\u001b[0m     \u001b[0;32melse\u001b[0m\u001b[0;34m:\u001b[0m\u001b[0;34m\u001b[0m\u001b[0m\n\u001b[1;32m    999\u001b[0m       \u001b[0mresults\u001b[0m \u001b[0;34m=\u001b[0m \u001b[0;34m[\u001b[0m\u001b[0;34m]\u001b[0m\u001b[0;34m\u001b[0m\u001b[0m\n", 
                        "\u001b[0;32m/usr/local/src/bluemix_jupyter_bundle.v91/notebook/lib/python2.7/site-packages/tensorflow/python/client/session.pyc\u001b[0m in \u001b[0;36m_do_run\u001b[0;34m(self, handle, target_list, fetch_list, feed_dict, options, run_metadata)\u001b[0m\n\u001b[1;32m   1130\u001b[0m     \u001b[0;32mif\u001b[0m \u001b[0mhandle\u001b[0m \u001b[0;32mis\u001b[0m \u001b[0mNone\u001b[0m\u001b[0;34m:\u001b[0m\u001b[0;34m\u001b[0m\u001b[0m\n\u001b[1;32m   1131\u001b[0m       return self._do_call(_run_fn, self._session, feed_dict, fetch_list,\n\u001b[0;32m-> 1132\u001b[0;31m                            target_list, options, run_metadata)\n\u001b[0m\u001b[1;32m   1133\u001b[0m     \u001b[0;32melse\u001b[0m\u001b[0;34m:\u001b[0m\u001b[0;34m\u001b[0m\u001b[0m\n\u001b[1;32m   1134\u001b[0m       return self._do_call(_prun_fn, self._session, handle, feed_dict,\n", 
                        "\u001b[0;32m/usr/local/src/bluemix_jupyter_bundle.v91/notebook/lib/python2.7/site-packages/tensorflow/python/client/session.pyc\u001b[0m in \u001b[0;36m_do_call\u001b[0;34m(self, fn, *args)\u001b[0m\n\u001b[1;32m   1137\u001b[0m   \u001b[0;32mdef\u001b[0m \u001b[0m_do_call\u001b[0m\u001b[0;34m(\u001b[0m\u001b[0mself\u001b[0m\u001b[0;34m,\u001b[0m \u001b[0mfn\u001b[0m\u001b[0;34m,\u001b[0m \u001b[0;34m*\u001b[0m\u001b[0margs\u001b[0m\u001b[0;34m)\u001b[0m\u001b[0;34m:\u001b[0m\u001b[0;34m\u001b[0m\u001b[0m\n\u001b[1;32m   1138\u001b[0m     \u001b[0;32mtry\u001b[0m\u001b[0;34m:\u001b[0m\u001b[0;34m\u001b[0m\u001b[0m\n\u001b[0;32m-> 1139\u001b[0;31m       \u001b[0;32mreturn\u001b[0m \u001b[0mfn\u001b[0m\u001b[0;34m(\u001b[0m\u001b[0;34m*\u001b[0m\u001b[0margs\u001b[0m\u001b[0;34m)\u001b[0m\u001b[0;34m\u001b[0m\u001b[0m\n\u001b[0m\u001b[1;32m   1140\u001b[0m     \u001b[0;32mexcept\u001b[0m \u001b[0merrors\u001b[0m\u001b[0;34m.\u001b[0m\u001b[0mOpError\u001b[0m \u001b[0;32mas\u001b[0m \u001b[0me\u001b[0m\u001b[0;34m:\u001b[0m\u001b[0;34m\u001b[0m\u001b[0m\n\u001b[1;32m   1141\u001b[0m       \u001b[0mmessage\u001b[0m \u001b[0;34m=\u001b[0m \u001b[0mcompat\u001b[0m\u001b[0;34m.\u001b[0m\u001b[0mas_text\u001b[0m\u001b[0;34m(\u001b[0m\u001b[0me\u001b[0m\u001b[0;34m.\u001b[0m\u001b[0mmessage\u001b[0m\u001b[0;34m)\u001b[0m\u001b[0;34m\u001b[0m\u001b[0m\n", 
                        "\u001b[0;32m/usr/local/src/bluemix_jupyter_bundle.v91/notebook/lib/python2.7/site-packages/tensorflow/python/client/session.pyc\u001b[0m in \u001b[0;36m_run_fn\u001b[0;34m(session, feed_dict, fetch_list, target_list, options, run_metadata)\u001b[0m\n\u001b[1;32m   1119\u001b[0m         return tf_session.TF_Run(session, options,\n\u001b[1;32m   1120\u001b[0m                                  \u001b[0mfeed_dict\u001b[0m\u001b[0;34m,\u001b[0m \u001b[0mfetch_list\u001b[0m\u001b[0;34m,\u001b[0m \u001b[0mtarget_list\u001b[0m\u001b[0;34m,\u001b[0m\u001b[0;34m\u001b[0m\u001b[0m\n\u001b[0;32m-> 1121\u001b[0;31m                                  status, run_metadata)\n\u001b[0m\u001b[1;32m   1122\u001b[0m \u001b[0;34m\u001b[0m\u001b[0m\n\u001b[1;32m   1123\u001b[0m     \u001b[0;32mdef\u001b[0m \u001b[0m_prun_fn\u001b[0m\u001b[0;34m(\u001b[0m\u001b[0msession\u001b[0m\u001b[0;34m,\u001b[0m \u001b[0mhandle\u001b[0m\u001b[0;34m,\u001b[0m \u001b[0mfeed_dict\u001b[0m\u001b[0;34m,\u001b[0m \u001b[0mfetch_list\u001b[0m\u001b[0;34m)\u001b[0m\u001b[0;34m:\u001b[0m\u001b[0;34m\u001b[0m\u001b[0m\n", 
                        "\u001b[0;31mKeyboardInterrupt\u001b[0m: "
                    ], 
                    "ename": "KeyboardInterrupt"
                }
            ], 
            "metadata": {}
        }, 
        {
            "source": "plt.figure(figsize=(8,50)) # not shown in the book\nfor iteration in range(n_digits):\n    plt.subplot(n_digits, 10, iteration + 1)\n    plot_image(outputs_val[iteration])", 
            "cell_type": "code", 
            "execution_count": 25, 
            "outputs": [
                {
                    "output_type": "error", 
                    "evalue": "name 'outputs_val' is not defined", 
                    "traceback": [
                        "\u001b[0;31m\u001b[0m", 
                        "\u001b[0;31mNameError\u001b[0mTraceback (most recent call last)", 
                        "\u001b[0;32m<ipython-input-25-a9a3d330e158>\u001b[0m in \u001b[0;36m<module>\u001b[0;34m()\u001b[0m\n\u001b[1;32m      2\u001b[0m \u001b[0;32mfor\u001b[0m \u001b[0miteration\u001b[0m \u001b[0;32min\u001b[0m \u001b[0mrange\u001b[0m\u001b[0;34m(\u001b[0m\u001b[0mn_digits\u001b[0m\u001b[0;34m)\u001b[0m\u001b[0;34m:\u001b[0m\u001b[0;34m\u001b[0m\u001b[0m\n\u001b[1;32m      3\u001b[0m     \u001b[0mplt\u001b[0m\u001b[0;34m.\u001b[0m\u001b[0msubplot\u001b[0m\u001b[0;34m(\u001b[0m\u001b[0mn_digits\u001b[0m\u001b[0;34m,\u001b[0m \u001b[0;36m10\u001b[0m\u001b[0;34m,\u001b[0m \u001b[0miteration\u001b[0m \u001b[0;34m+\u001b[0m \u001b[0;36m1\u001b[0m\u001b[0;34m)\u001b[0m\u001b[0;34m\u001b[0m\u001b[0m\n\u001b[0;32m----> 4\u001b[0;31m     \u001b[0mplot_image\u001b[0m\u001b[0;34m(\u001b[0m\u001b[0moutputs_val\u001b[0m\u001b[0;34m[\u001b[0m\u001b[0miteration\u001b[0m\u001b[0;34m]\u001b[0m\u001b[0;34m)\u001b[0m\u001b[0;34m\u001b[0m\u001b[0m\n\u001b[0m", 
                        "\u001b[0;31mNameError\u001b[0m: name 'outputs_val' is not defined"
                    ], 
                    "ename": "NameError"
                }, 
                {
                    "output_type": "display_data", 
                    "data": {
                        "image/png": "[encoded data removed]", 
                        "text/plain": "<matplotlib.figure.Figure at 0x7f68b473ba90>"
                    }, 
                    "metadata": {}
                }
            ], 
            "metadata": {}
        }, 
        {
            "source": "n_rows = 6\nn_cols = 10\nplot_multiple_images(outputs_val.reshape(-1, 28, 28), n_rows, n_cols)\n#save_fig(\"generated_digits_plot\")\nplt.show()", 
            "cell_type": "code", 
            "execution_count": 26, 
            "outputs": [
                {
                    "output_type": "error", 
                    "evalue": "name 'outputs_val' is not defined", 
                    "traceback": [
                        "\u001b[0;31m\u001b[0m", 
                        "\u001b[0;31mNameError\u001b[0mTraceback (most recent call last)", 
                        "\u001b[0;32m<ipython-input-26-e742b07aef35>\u001b[0m in \u001b[0;36m<module>\u001b[0;34m()\u001b[0m\n\u001b[1;32m      1\u001b[0m \u001b[0mn_rows\u001b[0m \u001b[0;34m=\u001b[0m \u001b[0;36m6\u001b[0m\u001b[0;34m\u001b[0m\u001b[0m\n\u001b[1;32m      2\u001b[0m \u001b[0mn_cols\u001b[0m \u001b[0;34m=\u001b[0m \u001b[0;36m10\u001b[0m\u001b[0;34m\u001b[0m\u001b[0m\n\u001b[0;32m----> 3\u001b[0;31m \u001b[0mplot_multiple_images\u001b[0m\u001b[0;34m(\u001b[0m\u001b[0moutputs_val\u001b[0m\u001b[0;34m.\u001b[0m\u001b[0mreshape\u001b[0m\u001b[0;34m(\u001b[0m\u001b[0;34m-\u001b[0m\u001b[0;36m1\u001b[0m\u001b[0;34m,\u001b[0m \u001b[0;36m28\u001b[0m\u001b[0;34m,\u001b[0m \u001b[0;36m28\u001b[0m\u001b[0;34m)\u001b[0m\u001b[0;34m,\u001b[0m \u001b[0mn_rows\u001b[0m\u001b[0;34m,\u001b[0m \u001b[0mn_cols\u001b[0m\u001b[0;34m)\u001b[0m\u001b[0;34m\u001b[0m\u001b[0m\n\u001b[0m\u001b[1;32m      4\u001b[0m \u001b[0;31m#save_fig(\"generated_digits_plot\")\u001b[0m\u001b[0;34m\u001b[0m\u001b[0;34m\u001b[0m\u001b[0m\n\u001b[1;32m      5\u001b[0m \u001b[0mplt\u001b[0m\u001b[0;34m.\u001b[0m\u001b[0mshow\u001b[0m\u001b[0;34m(\u001b[0m\u001b[0;34m)\u001b[0m\u001b[0;34m\u001b[0m\u001b[0m\n", 
                        "\u001b[0;31mNameError\u001b[0m: name 'outputs_val' is not defined"
                    ], 
                    "ename": "NameError"
                }
            ], 
            "metadata": {}
        }, 
        {
            "source": "Note that the latent loss is computed differently in this second variant:", 
            "cell_type": "markdown", 
            "metadata": {}
        }, 
        {
            "source": "latent_loss = 0.5 * tf.reduce_sum(\n    tf.exp(hidden3_gamma) + tf.square(hidden3_mean) - 1 - hidden3_gamma)", 
            "cell_type": "code", 
            "execution_count": 59, 
            "outputs": [], 
            "metadata": {}
        }, 
        {
            "source": "## Encode & Decode", 
            "cell_type": "markdown", 
            "metadata": {}
        }, 
        {
            "source": "Encode:", 
            "cell_type": "markdown", 
            "metadata": {}
        }, 
        {
            "source": "batch_size = 150\n\nn_digits = 3\nX_test, y_test = mnist.test.next_batch(batch_size)\ncodings = hidden3\n\nwith tf.Session() as sess:\n    saver.restore(sess, \"./my_model_variational.ckpt\")\n    codings_val = codings.eval(feed_dict={X: X_test})", 
            "cell_type": "code", 
            "execution_count": 12, 
            "outputs": [
                {
                    "output_type": "error", 
                    "evalue": "name 'hidden3' is not defined", 
                    "traceback": [
                        "\u001b[0;31m\u001b[0m", 
                        "\u001b[0;31mNameError\u001b[0mTraceback (most recent call last)", 
                        "\u001b[0;32m<ipython-input-12-e83ffa2fda23>\u001b[0m in \u001b[0;36m<module>\u001b[0;34m()\u001b[0m\n\u001b[1;32m      3\u001b[0m \u001b[0mn_digits\u001b[0m \u001b[0;34m=\u001b[0m \u001b[0;36m3\u001b[0m\u001b[0;34m\u001b[0m\u001b[0m\n\u001b[1;32m      4\u001b[0m \u001b[0mX_test\u001b[0m\u001b[0;34m,\u001b[0m \u001b[0my_test\u001b[0m \u001b[0;34m=\u001b[0m \u001b[0mmnist\u001b[0m\u001b[0;34m.\u001b[0m\u001b[0mtest\u001b[0m\u001b[0;34m.\u001b[0m\u001b[0mnext_batch\u001b[0m\u001b[0;34m(\u001b[0m\u001b[0mbatch_size\u001b[0m\u001b[0;34m)\u001b[0m\u001b[0;34m\u001b[0m\u001b[0m\n\u001b[0;32m----> 5\u001b[0;31m \u001b[0mcodings\u001b[0m \u001b[0;34m=\u001b[0m \u001b[0mhidden3\u001b[0m\u001b[0;34m\u001b[0m\u001b[0m\n\u001b[0m\u001b[1;32m      6\u001b[0m \u001b[0;34m\u001b[0m\u001b[0m\n\u001b[1;32m      7\u001b[0m \u001b[0;32mwith\u001b[0m \u001b[0mtf\u001b[0m\u001b[0;34m.\u001b[0m\u001b[0mSession\u001b[0m\u001b[0;34m(\u001b[0m\u001b[0;34m)\u001b[0m \u001b[0;32mas\u001b[0m \u001b[0msess\u001b[0m\u001b[0;34m:\u001b[0m\u001b[0;34m\u001b[0m\u001b[0m\n", 
                        "\u001b[0;31mNameError\u001b[0m: name 'hidden3' is not defined"
                    ], 
                    "ename": "NameError"
                }
            ], 
            "metadata": {}
        }, 
        {
            "source": "Decode:", 
            "cell_type": "markdown", 
            "metadata": {}
        }, 
        {
            "source": "with tf.Session() as sess:\n    saver.restore(sess, \"./my_model_variational.ckpt\")\n    outputs_val = outputs.eval(feed_dict={codings: codings_val})", 
            "cell_type": "code", 
            "execution_count": null, 
            "outputs": [], 
            "metadata": {}
        }, 
        {
            "source": "Let's plot the reconstructions:", 
            "cell_type": "markdown", 
            "metadata": {}
        }, 
        {
            "source": "fig = plt.figure(figsize=(8, 2.5 * n_digits))\nfor iteration in range(n_digits):\n    plt.subplot(n_digits, 2, 1 + 2 * iteration)\n    plot_image(X_test[iteration])\n    plt.subplot(n_digits, 2, 2 + 2 * iteration)\n    plot_image(outputs_val[iteration])", 
            "cell_type": "code", 
            "execution_count": null, 
            "outputs": [], 
            "metadata": {}
        }, 
        {
            "source": "## Interpolate digits", 
            "cell_type": "markdown", 
            "metadata": {}
        }, 
        {
            "source": "n_iterations = 3\nn_digits = 6\ncodings_rnd = np.random.normal(size=[n_digits, n_hidden3])\n\nwith tf.Session() as sess:\n    saver.restore(sess, \"./my_model_variational.ckpt\")\n    target_codings = np.roll(codings_rnd, -1, axis=0)\n    for iteration in range(n_iterations + 1):\n        codings_interpolate = codings_rnd + (target_codings - codings_rnd) * iteration / n_iterations\n        outputs_val = outputs.eval(feed_dict={codings: codings_interpolate})\n        plt.figure(figsize=(11, 1.5*n_iterations))\n        for digit_index in range(n_digits):\n            plt.subplot(1, n_digits, digit_index + 1)\n            plot_image(outputs_val[digit_index])\n        plt.show()", 
            "cell_type": "code", 
            "execution_count": null, 
            "outputs": [], 
            "metadata": {
                "scrolled": true
            }
        }, 
        {
            "source": "# Exercise solutions", 
            "cell_type": "markdown", 
            "metadata": {
                "collapsed": true
            }
        }, 
        {
            "source": "Coming soon...", 
            "cell_type": "markdown", 
            "metadata": {}
        }, 
        {
            "source": "", 
            "cell_type": "code", 
            "execution_count": null, 
            "outputs": [], 
            "metadata": {}
        }
    ], 
    "nbformat": 4, 
    "metadata": {
        "kernelspec": {
            "display_name": "Python 2 with Spark 2.1", 
            "name": "python2-spark21", 
            "language": "python"
        }, 
        "toc": {
            "toc_window_display": false, 
            "number_sections": true, 
            "threshold": 6, 
            "navigate_menu": true, 
            "toc_section_display": "block", 
            "sideBar": true, 
            "toc_cell": false
        }, 
        "nav_menu": {
            "width": "453px", 
            "height": "381px"
        }, 
        "language_info": {
            "mimetype": "text/x-python", 
            "nbconvert_exporter": "python", 
            "version": "2.7.14", 
            "name": "python", 
            "pygments_lexer": "ipython2", 
            "file_extension": ".py", 
            "codemirror_mode": {
                "version": 2, 
                "name": "ipython"
            }
        }
    }
}